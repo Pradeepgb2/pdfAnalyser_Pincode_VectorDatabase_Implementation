{
 "cells": [
  {
   "cell_type": "code",
   "execution_count": 98,
   "id": "6b758172",
   "metadata": {},
   "outputs": [
    {
     "name": "stdout",
     "output_type": "stream",
     "text": [
      "Requirement already satisfied: langchain in c:\\users\\narasimha\\anaconda3\\lib\\site-packages (0.3.27)\n",
      "Requirement already satisfied: langchain-core<1.0.0,>=0.3.72 in c:\\users\\narasimha\\anaconda3\\lib\\site-packages (from langchain) (0.3.75)\n",
      "Requirement already satisfied: langchain-text-splitters<1.0.0,>=0.3.9 in c:\\users\\narasimha\\anaconda3\\lib\\site-packages (from langchain) (0.3.9)\n",
      "Requirement already satisfied: langsmith>=0.1.17 in c:\\users\\narasimha\\anaconda3\\lib\\site-packages (from langchain) (0.4.17)\n",
      "Requirement already satisfied: pydantic<3.0.0,>=2.7.4 in c:\\users\\narasimha\\anaconda3\\lib\\site-packages (from langchain) (2.10.3)\n",
      "Requirement already satisfied: SQLAlchemy<3,>=1.4 in c:\\users\\narasimha\\anaconda3\\lib\\site-packages (from langchain) (2.0.39)\n",
      "Requirement already satisfied: requests<3,>=2 in c:\\users\\narasimha\\anaconda3\\lib\\site-packages (from langchain) (2.32.5)\n",
      "Requirement already satisfied: PyYAML>=5.3 in c:\\users\\narasimha\\anaconda3\\lib\\site-packages (from langchain) (6.0.2)\n",
      "Requirement already satisfied: tenacity!=8.4.0,<10.0.0,>=8.1.0 in c:\\users\\narasimha\\anaconda3\\lib\\site-packages (from langchain-core<1.0.0,>=0.3.72->langchain) (9.0.0)\n",
      "Requirement already satisfied: jsonpatch<2.0,>=1.33 in c:\\users\\narasimha\\anaconda3\\lib\\site-packages (from langchain-core<1.0.0,>=0.3.72->langchain) (1.33)\n",
      "Requirement already satisfied: typing-extensions>=4.7 in c:\\users\\narasimha\\anaconda3\\lib\\site-packages (from langchain-core<1.0.0,>=0.3.72->langchain) (4.12.2)\n",
      "Requirement already satisfied: packaging>=23.2 in c:\\users\\narasimha\\anaconda3\\lib\\site-packages (from langchain-core<1.0.0,>=0.3.72->langchain) (24.2)\n",
      "Requirement already satisfied: jsonpointer>=1.9 in c:\\users\\narasimha\\anaconda3\\lib\\site-packages (from jsonpatch<2.0,>=1.33->langchain-core<1.0.0,>=0.3.72->langchain) (2.1)\n",
      "Requirement already satisfied: annotated-types>=0.6.0 in c:\\users\\narasimha\\anaconda3\\lib\\site-packages (from pydantic<3.0.0,>=2.7.4->langchain) (0.6.0)\n",
      "Requirement already satisfied: pydantic-core==2.27.1 in c:\\users\\narasimha\\anaconda3\\lib\\site-packages (from pydantic<3.0.0,>=2.7.4->langchain) (2.27.1)\n",
      "Requirement already satisfied: charset_normalizer<4,>=2 in c:\\users\\narasimha\\anaconda3\\lib\\site-packages (from requests<3,>=2->langchain) (3.3.2)\n",
      "Requirement already satisfied: idna<4,>=2.5 in c:\\users\\narasimha\\anaconda3\\lib\\site-packages (from requests<3,>=2->langchain) (3.7)\n",
      "Requirement already satisfied: urllib3<3,>=1.21.1 in c:\\users\\narasimha\\anaconda3\\lib\\site-packages (from requests<3,>=2->langchain) (2.3.0)\n",
      "Requirement already satisfied: certifi>=2017.4.17 in c:\\users\\narasimha\\anaconda3\\lib\\site-packages (from requests<3,>=2->langchain) (2025.4.26)\n",
      "Requirement already satisfied: greenlet!=0.4.17 in c:\\users\\narasimha\\anaconda3\\lib\\site-packages (from SQLAlchemy<3,>=1.4->langchain) (3.1.1)\n",
      "Requirement already satisfied: httpx<1,>=0.23.0 in c:\\users\\narasimha\\anaconda3\\lib\\site-packages (from langsmith>=0.1.17->langchain) (0.28.1)\n",
      "Requirement already satisfied: orjson>=3.9.14 in c:\\users\\narasimha\\anaconda3\\lib\\site-packages (from langsmith>=0.1.17->langchain) (3.11.2)\n",
      "Requirement already satisfied: requests-toolbelt>=1.0.0 in c:\\users\\narasimha\\anaconda3\\lib\\site-packages (from langsmith>=0.1.17->langchain) (1.0.0)\n",
      "Requirement already satisfied: zstandard>=0.23.0 in c:\\users\\narasimha\\anaconda3\\lib\\site-packages (from langsmith>=0.1.17->langchain) (0.23.0)\n",
      "Requirement already satisfied: anyio in c:\\users\\narasimha\\anaconda3\\lib\\site-packages (from httpx<1,>=0.23.0->langsmith>=0.1.17->langchain) (4.7.0)\n",
      "Requirement already satisfied: httpcore==1.* in c:\\users\\narasimha\\anaconda3\\lib\\site-packages (from httpx<1,>=0.23.0->langsmith>=0.1.17->langchain) (1.0.9)\n",
      "Requirement already satisfied: h11>=0.16 in c:\\users\\narasimha\\anaconda3\\lib\\site-packages (from httpcore==1.*->httpx<1,>=0.23.0->langsmith>=0.1.17->langchain) (0.16.0)\n",
      "Requirement already satisfied: sniffio>=1.1 in c:\\users\\narasimha\\anaconda3\\lib\\site-packages (from anyio->httpx<1,>=0.23.0->langsmith>=0.1.17->langchain) (1.3.0)\n",
      "Requirement already satisfied: openai in c:\\users\\narasimha\\anaconda3\\lib\\site-packages (1.101.0)\n",
      "Requirement already satisfied: anyio<5,>=3.5.0 in c:\\users\\narasimha\\anaconda3\\lib\\site-packages (from openai) (4.7.0)\n",
      "Requirement already satisfied: distro<2,>=1.7.0 in c:\\users\\narasimha\\anaconda3\\lib\\site-packages (from openai) (1.9.0)\n",
      "Requirement already satisfied: httpx<1,>=0.23.0 in c:\\users\\narasimha\\anaconda3\\lib\\site-packages (from openai) (0.28.1)\n",
      "Requirement already satisfied: jiter<1,>=0.4.0 in c:\\users\\narasimha\\anaconda3\\lib\\site-packages (from openai) (0.10.0)\n",
      "Requirement already satisfied: pydantic<3,>=1.9.0 in c:\\users\\narasimha\\anaconda3\\lib\\site-packages (from openai) (2.10.3)\n",
      "Requirement already satisfied: sniffio in c:\\users\\narasimha\\anaconda3\\lib\\site-packages (from openai) (1.3.0)\n",
      "Requirement already satisfied: tqdm>4 in c:\\users\\narasimha\\anaconda3\\lib\\site-packages (from openai) (4.67.1)\n",
      "Requirement already satisfied: typing-extensions<5,>=4.11 in c:\\users\\narasimha\\anaconda3\\lib\\site-packages (from openai) (4.12.2)\n",
      "Requirement already satisfied: idna>=2.8 in c:\\users\\narasimha\\anaconda3\\lib\\site-packages (from anyio<5,>=3.5.0->openai) (3.7)\n",
      "Requirement already satisfied: certifi in c:\\users\\narasimha\\anaconda3\\lib\\site-packages (from httpx<1,>=0.23.0->openai) (2025.4.26)\n",
      "Requirement already satisfied: httpcore==1.* in c:\\users\\narasimha\\anaconda3\\lib\\site-packages (from httpx<1,>=0.23.0->openai) (1.0.9)\n",
      "Requirement already satisfied: h11>=0.16 in c:\\users\\narasimha\\anaconda3\\lib\\site-packages (from httpcore==1.*->httpx<1,>=0.23.0->openai) (0.16.0)\n",
      "Requirement already satisfied: annotated-types>=0.6.0 in c:\\users\\narasimha\\anaconda3\\lib\\site-packages (from pydantic<3,>=1.9.0->openai) (0.6.0)\n",
      "Requirement already satisfied: pydantic-core==2.27.1 in c:\\users\\narasimha\\anaconda3\\lib\\site-packages (from pydantic<3,>=1.9.0->openai) (2.27.1)\n",
      "Requirement already satisfied: colorama in c:\\users\\narasimha\\anaconda3\\lib\\site-packages (from tqdm>4->openai) (0.4.6)\n",
      "Requirement already satisfied: tiktoken in c:\\users\\narasimha\\anaconda3\\lib\\site-packages (0.11.0)\n",
      "Requirement already satisfied: regex>=2022.1.18 in c:\\users\\narasimha\\anaconda3\\lib\\site-packages (from tiktoken) (2024.11.6)\n",
      "Requirement already satisfied: requests>=2.26.0 in c:\\users\\narasimha\\anaconda3\\lib\\site-packages (from tiktoken) (2.32.5)\n",
      "Requirement already satisfied: charset_normalizer<4,>=2 in c:\\users\\narasimha\\anaconda3\\lib\\site-packages (from requests>=2.26.0->tiktoken) (3.3.2)\n",
      "Requirement already satisfied: idna<4,>=2.5 in c:\\users\\narasimha\\anaconda3\\lib\\site-packages (from requests>=2.26.0->tiktoken) (3.7)\n",
      "Requirement already satisfied: urllib3<3,>=1.21.1 in c:\\users\\narasimha\\anaconda3\\lib\\site-packages (from requests>=2.26.0->tiktoken) (2.3.0)\n",
      "Requirement already satisfied: certifi>=2017.4.17 in c:\\users\\narasimha\\anaconda3\\lib\\site-packages (from requests>=2.26.0->tiktoken) (2025.4.26)\n",
      "Requirement already satisfied: pypdf in c:\\users\\narasimha\\anaconda3\\lib\\site-packages (6.0.0)\n",
      "Requirement already satisfied: langchain-community in c:\\users\\narasimha\\anaconda3\\lib\\site-packages (0.3.29)\n",
      "Requirement already satisfied: langchain-core<2.0.0,>=0.3.75 in c:\\users\\narasimha\\anaconda3\\lib\\site-packages (from langchain-community) (0.3.75)\n",
      "Requirement already satisfied: langchain<2.0.0,>=0.3.27 in c:\\users\\narasimha\\anaconda3\\lib\\site-packages (from langchain-community) (0.3.27)\n",
      "Requirement already satisfied: SQLAlchemy<3,>=1.4 in c:\\users\\narasimha\\anaconda3\\lib\\site-packages (from langchain-community) (2.0.39)\n",
      "Requirement already satisfied: requests<3,>=2.32.5 in c:\\users\\narasimha\\anaconda3\\lib\\site-packages (from langchain-community) (2.32.5)\n",
      "Requirement already satisfied: PyYAML>=5.3 in c:\\users\\narasimha\\anaconda3\\lib\\site-packages (from langchain-community) (6.0.2)\n",
      "Requirement already satisfied: aiohttp<4.0.0,>=3.8.3 in c:\\users\\narasimha\\anaconda3\\lib\\site-packages (from langchain-community) (3.11.10)\n",
      "Requirement already satisfied: tenacity!=8.4.0,<10,>=8.1.0 in c:\\users\\narasimha\\anaconda3\\lib\\site-packages (from langchain-community) (9.0.0)\n",
      "Requirement already satisfied: dataclasses-json<0.7,>=0.6.7 in c:\\users\\narasimha\\anaconda3\\lib\\site-packages (from langchain-community) (0.6.7)\n",
      "Requirement already satisfied: pydantic-settings<3.0.0,>=2.10.1 in c:\\users\\narasimha\\anaconda3\\lib\\site-packages (from langchain-community) (2.10.1)\n",
      "Requirement already satisfied: langsmith>=0.1.125 in c:\\users\\narasimha\\anaconda3\\lib\\site-packages (from langchain-community) (0.4.17)\n",
      "Requirement already satisfied: httpx-sse<1.0.0,>=0.4.0 in c:\\users\\narasimha\\anaconda3\\lib\\site-packages (from langchain-community) (0.4.1)\n",
      "Requirement already satisfied: numpy>=2.1.0 in c:\\users\\narasimha\\anaconda3\\lib\\site-packages (from langchain-community) (2.1.3)\n",
      "Requirement already satisfied: aiohappyeyeballs>=2.3.0 in c:\\users\\narasimha\\anaconda3\\lib\\site-packages (from aiohttp<4.0.0,>=3.8.3->langchain-community) (2.4.4)\n",
      "Requirement already satisfied: aiosignal>=1.1.2 in c:\\users\\narasimha\\anaconda3\\lib\\site-packages (from aiohttp<4.0.0,>=3.8.3->langchain-community) (1.2.0)\n",
      "Requirement already satisfied: attrs>=17.3.0 in c:\\users\\narasimha\\anaconda3\\lib\\site-packages (from aiohttp<4.0.0,>=3.8.3->langchain-community) (24.3.0)\n",
      "Requirement already satisfied: frozenlist>=1.1.1 in c:\\users\\narasimha\\anaconda3\\lib\\site-packages (from aiohttp<4.0.0,>=3.8.3->langchain-community) (1.5.0)\n",
      "Requirement already satisfied: multidict<7.0,>=4.5 in c:\\users\\narasimha\\anaconda3\\lib\\site-packages (from aiohttp<4.0.0,>=3.8.3->langchain-community) (6.1.0)\n",
      "Requirement already satisfied: propcache>=0.2.0 in c:\\users\\narasimha\\anaconda3\\lib\\site-packages (from aiohttp<4.0.0,>=3.8.3->langchain-community) (0.3.1)\n",
      "Requirement already satisfied: yarl<2.0,>=1.17.0 in c:\\users\\narasimha\\anaconda3\\lib\\site-packages (from aiohttp<4.0.0,>=3.8.3->langchain-community) (1.18.0)\n",
      "Requirement already satisfied: marshmallow<4.0.0,>=3.18.0 in c:\\users\\narasimha\\anaconda3\\lib\\site-packages (from dataclasses-json<0.7,>=0.6.7->langchain-community) (3.26.1)\n",
      "Requirement already satisfied: typing-inspect<1,>=0.4.0 in c:\\users\\narasimha\\anaconda3\\lib\\site-packages (from dataclasses-json<0.7,>=0.6.7->langchain-community) (0.9.0)\n",
      "Requirement already satisfied: langchain-text-splitters<1.0.0,>=0.3.9 in c:\\users\\narasimha\\anaconda3\\lib\\site-packages (from langchain<2.0.0,>=0.3.27->langchain-community) (0.3.9)\n",
      "Requirement already satisfied: pydantic<3.0.0,>=2.7.4 in c:\\users\\narasimha\\anaconda3\\lib\\site-packages (from langchain<2.0.0,>=0.3.27->langchain-community) (2.10.3)\n",
      "Requirement already satisfied: jsonpatch<2.0,>=1.33 in c:\\users\\narasimha\\anaconda3\\lib\\site-packages (from langchain-core<2.0.0,>=0.3.75->langchain-community) (1.33)\n",
      "Requirement already satisfied: typing-extensions>=4.7 in c:\\users\\narasimha\\anaconda3\\lib\\site-packages (from langchain-core<2.0.0,>=0.3.75->langchain-community) (4.12.2)\n",
      "Requirement already satisfied: packaging>=23.2 in c:\\users\\narasimha\\anaconda3\\lib\\site-packages (from langchain-core<2.0.0,>=0.3.75->langchain-community) (24.2)\n",
      "Requirement already satisfied: jsonpointer>=1.9 in c:\\users\\narasimha\\anaconda3\\lib\\site-packages (from jsonpatch<2.0,>=1.33->langchain-core<2.0.0,>=0.3.75->langchain-community) (2.1)\n",
      "Requirement already satisfied: annotated-types>=0.6.0 in c:\\users\\narasimha\\anaconda3\\lib\\site-packages (from pydantic<3.0.0,>=2.7.4->langchain<2.0.0,>=0.3.27->langchain-community) (0.6.0)\n",
      "Requirement already satisfied: pydantic-core==2.27.1 in c:\\users\\narasimha\\anaconda3\\lib\\site-packages (from pydantic<3.0.0,>=2.7.4->langchain<2.0.0,>=0.3.27->langchain-community) (2.27.1)\n",
      "Requirement already satisfied: python-dotenv>=0.21.0 in c:\\users\\narasimha\\anaconda3\\lib\\site-packages (from pydantic-settings<3.0.0,>=2.10.1->langchain-community) (1.1.0)\n",
      "Requirement already satisfied: typing-inspection>=0.4.0 in c:\\users\\narasimha\\anaconda3\\lib\\site-packages (from pydantic-settings<3.0.0,>=2.10.1->langchain-community) (0.4.1)\n",
      "Requirement already satisfied: charset_normalizer<4,>=2 in c:\\users\\narasimha\\anaconda3\\lib\\site-packages (from requests<3,>=2.32.5->langchain-community) (3.3.2)\n",
      "Requirement already satisfied: idna<4,>=2.5 in c:\\users\\narasimha\\anaconda3\\lib\\site-packages (from requests<3,>=2.32.5->langchain-community) (3.7)\n",
      "Requirement already satisfied: urllib3<3,>=1.21.1 in c:\\users\\narasimha\\anaconda3\\lib\\site-packages (from requests<3,>=2.32.5->langchain-community) (2.3.0)\n",
      "Requirement already satisfied: certifi>=2017.4.17 in c:\\users\\narasimha\\anaconda3\\lib\\site-packages (from requests<3,>=2.32.5->langchain-community) (2025.4.26)\n",
      "Requirement already satisfied: greenlet!=0.4.17 in c:\\users\\narasimha\\anaconda3\\lib\\site-packages (from SQLAlchemy<3,>=1.4->langchain-community) (3.1.1)\n",
      "Requirement already satisfied: mypy-extensions>=0.3.0 in c:\\users\\narasimha\\anaconda3\\lib\\site-packages (from typing-inspect<1,>=0.4.0->dataclasses-json<0.7,>=0.6.7->langchain-community) (1.0.0)\n",
      "Requirement already satisfied: httpx<1,>=0.23.0 in c:\\users\\narasimha\\anaconda3\\lib\\site-packages (from langsmith>=0.1.125->langchain-community) (0.28.1)\n",
      "Requirement already satisfied: orjson>=3.9.14 in c:\\users\\narasimha\\anaconda3\\lib\\site-packages (from langsmith>=0.1.125->langchain-community) (3.11.2)\n",
      "Requirement already satisfied: requests-toolbelt>=1.0.0 in c:\\users\\narasimha\\anaconda3\\lib\\site-packages (from langsmith>=0.1.125->langchain-community) (1.0.0)\n",
      "Requirement already satisfied: zstandard>=0.23.0 in c:\\users\\narasimha\\anaconda3\\lib\\site-packages (from langsmith>=0.1.125->langchain-community) (0.23.0)\n",
      "Requirement already satisfied: anyio in c:\\users\\narasimha\\anaconda3\\lib\\site-packages (from httpx<1,>=0.23.0->langsmith>=0.1.125->langchain-community) (4.7.0)\n",
      "Requirement already satisfied: httpcore==1.* in c:\\users\\narasimha\\anaconda3\\lib\\site-packages (from httpx<1,>=0.23.0->langsmith>=0.1.125->langchain-community) (1.0.9)\n",
      "Requirement already satisfied: h11>=0.16 in c:\\users\\narasimha\\anaconda3\\lib\\site-packages (from httpcore==1.*->httpx<1,>=0.23.0->langsmith>=0.1.125->langchain-community) (0.16.0)\n",
      "Requirement already satisfied: sniffio>=1.1 in c:\\users\\narasimha\\anaconda3\\lib\\site-packages (from anyio->httpx<1,>=0.23.0->langsmith>=0.1.125->langchain-community) (1.3.0)\n"
     ]
    }
   ],
   "source": [
    "!pip install langchain\n",
    "!pip install openai\n",
    "!pip install tiktoken\n",
    "!pip install pypdf\n",
    "!pip install -U langchain-community"
   ]
  },
  {
   "cell_type": "code",
   "execution_count": 99,
   "id": "fc1633b8",
   "metadata": {},
   "outputs": [],
   "source": [
    "from langchain.document_loaders import PyPDFDirectoryLoader\n",
    "from langchain.text_splitter import RecursiveCharacterTextSplitter\n",
    "from langchain.embeddings import OpenAIEmbeddings\n",
    "from langchain.vectorstores import Pinecone\n",
    "from langchain.llms import OpenAI\n",
    "from langchain.chains import RetrievalQA\n",
    "from langchain.prompts import PromptTemplate\n",
    "import os"
   ]
  },
  {
   "cell_type": "code",
   "execution_count": 100,
   "id": "10af91cc",
   "metadata": {},
   "outputs": [
    {
     "name": "stderr",
     "output_type": "stream",
     "text": [
      "A subdirectory or file pdfs already exists.\n"
     ]
    }
   ],
   "source": [
    "mkdir pdfs"
   ]
  },
  {
   "cell_type": "code",
   "execution_count": 101,
   "id": "f95bf276",
   "metadata": {},
   "outputs": [],
   "source": [
    "loader = PyPDFDirectoryLoader('pdfs')\n"
   ]
  },
  {
   "cell_type": "code",
   "execution_count": 102,
   "id": "5bc8e1eb",
   "metadata": {},
   "outputs": [],
   "source": [
    "\n",
    "\n",
    "data=loader.load()"
   ]
  },
  {
   "cell_type": "code",
   "execution_count": 103,
   "id": "929dbd09",
   "metadata": {},
   "outputs": [
    {
     "data": {
      "text/plain": [
       "Document(metadata={'producer': 'iLovePDF', 'creator': 'PyPDF', 'creationdate': '', 'moddate': '2025-08-24T16:13:42+00:00', 'source': 'pdfs\\\\DA1.pdf', 'total_pages': 123, 'page': 0, 'page_label': '1'}, page_content='ADTA 5130/IPAC 4130\\nMODULE 1:  CHAPTERS 1, 2, AND 3')"
      ]
     },
     "execution_count": 103,
     "metadata": {},
     "output_type": "execute_result"
    }
   ],
   "source": [
    "data[0]"
   ]
  },
  {
   "cell_type": "code",
   "execution_count": 104,
   "id": "be473c6e",
   "metadata": {},
   "outputs": [],
   "source": [
    "text_splitter = RecursiveCharacterTextSplitter(chunk_size=10000, chunk_overlap=20)                     "
   ]
  },
  {
   "cell_type": "code",
   "execution_count": 105,
   "id": "b7974751",
   "metadata": {},
   "outputs": [],
   "source": [
    "text_chunks = text_splitter.split_documents(data)"
   ]
  },
  {
   "cell_type": "code",
   "execution_count": 106,
   "id": "ed9ee4f7",
   "metadata": {},
   "outputs": [
    {
     "data": {
      "text/plain": [
       "[Document(metadata={'producer': 'iLovePDF', 'creator': 'PyPDF', 'creationdate': '', 'moddate': '2025-08-24T16:13:42+00:00', 'source': 'pdfs\\\\DA1.pdf', 'total_pages': 123, 'page': 0, 'page_label': '1'}, page_content='ADTA 5130/IPAC 4130\\nMODULE 1:  CHAPTERS 1, 2, AND 3'),\n",
       " Document(metadata={'producer': 'iLovePDF', 'creator': 'PyPDF', 'creationdate': '', 'moddate': '2025-08-24T16:13:42+00:00', 'source': 'pdfs\\\\DA1.pdf', 'total_pages': 123, 'page': 1, 'page_label': '2'}, page_content='Agenda\\n• Introduction\\n• Admin: Canvas, Syllabus, Expectations\\n• Chapters 1, 2, and 3\\n• Homework'),\n",
       " Document(metadata={'producer': 'iLovePDF', 'creator': 'PyPDF', 'creationdate': '', 'moddate': '2025-08-24T16:13:42+00:00', 'source': 'pdfs\\\\DA1.pdf', 'total_pages': 123, 'page': 2, 'page_label': '3'}, page_content='Definitions\\n• Descriptive stats:  characteristics of data; charts/tables/measures\\n• Inferential stats:  drawing conclusions about data'),\n",
       " Document(metadata={'producer': 'iLovePDF', 'creator': 'PyPDF', 'creationdate': '', 'moddate': '2025-08-24T16:13:42+00:00', 'source': 'pdfs\\\\DA1.pdf', 'total_pages': 123, 'page': 3, 'page_label': '4'}, page_content='Definitions\\n• Structured Data:  Row-column format (databases/spreadsheets)\\n• Unstructured Data:  No predefined format (text, video, image)\\nNominal – no order\\nOrdinal - order\\nDiscrete - counts\\nContinuous – can \\nalways find a \\nmeasurement in \\nbetween'),\n",
       " Document(metadata={'producer': 'iLovePDF', 'creator': 'PyPDF', 'creationdate': '', 'moddate': '2025-08-24T16:13:42+00:00', 'source': 'pdfs\\\\DA1.pdf', 'total_pages': 123, 'page': 4, 'page_label': '5'}, page_content='Data Preparation\\n• Number of Observations\\n• Number of Variables\\n• Variable Types\\n• Missing Values\\n• Data Subsets\\n• Counts of Values\\n• Categorical Variables:  Contingency Table / Frequency Table\\n• Numerical Variables:  Histogram'),\n",
       " Document(metadata={'producer': 'iLovePDF', 'creator': 'PyPDF', 'creationdate': '', 'moddate': '2025-08-24T16:13:42+00:00', 'source': 'pdfs\\\\DA1.pdf', 'total_pages': 123, 'page': 5, 'page_label': '6'}, page_content='Frequency Distribution\\n\\uf075 Group the data into categories and record the number of \\nobservations that fall into each category.\\n\\uf075 The relative frequency for each category is the proportion of \\nobservations in each category. \\n\\uf075 The percent frequency is the relative frequency expressed as a \\npercent (Multiply by 100).'),\n",
       " Document(metadata={'producer': 'iLovePDF', 'creator': 'PyPDF', 'creationdate': '', 'moddate': '2025-08-24T16:13:42+00:00', 'source': 'pdfs\\\\DA1.pdf', 'total_pages': 123, 'page': 6, 'page_label': '7'}, page_content='Visualizing Categorical Variables\\nBar Chart Pie Chart Stacked Bar Chart\\nOne Variable Two Variables'),\n",
       " Document(metadata={'producer': 'iLovePDF', 'creator': 'PyPDF', 'creationdate': '', 'moddate': '2025-08-24T16:13:42+00:00', 'source': 'pdfs\\\\DA1.pdf', 'total_pages': 123, 'page': 7, 'page_label': '8'}, page_content='Histogram \\nModality\\nSkewness'),\n",
       " Document(metadata={'producer': 'iLovePDF', 'creator': 'PyPDF', 'creationdate': '', 'moddate': '2025-08-24T16:13:42+00:00', 'source': 'pdfs\\\\DA1.pdf', 'total_pages': 123, 'page': 8, 'page_label': '9'}, page_content='Scatterplot'),\n",
       " Document(metadata={'producer': 'iLovePDF', 'creator': 'PyPDF', 'creationdate': '', 'moddate': '2025-08-24T16:13:42+00:00', 'source': 'pdfs\\\\DA1.pdf', 'total_pages': 123, 'page': 9, 'page_label': '10'}, page_content='Variable Terminology'),\n",
       " Document(metadata={'producer': 'iLovePDF', 'creator': 'PyPDF', 'creationdate': '', 'moddate': '2025-08-24T16:13:42+00:00', 'source': 'pdfs\\\\DA1.pdf', 'total_pages': 123, 'page': 10, 'page_label': '11'}, page_content='Measures of Central Tendency\\n\\uf075 Mean (Arithmetic Mean or Average): Add up all the observations and divide by the \\nnumber of observations\\n\\uf075 Median: Middle value, or average of two middle values if no middle\\n\\uf075 Mode:  Observation that occurs most frequently\\n\\uf075 Percentile: Divides data into two parts (e.g, 75% of data below 75th percentile)\\n\\uf075 Boxplot:  Box is Interquartile Range or IQR: 75th percentile [Q3] - 25th percentile [Q1]'),\n",
       " Document(metadata={'producer': 'iLovePDF', 'creator': 'PyPDF', 'creationdate': '', 'moddate': '2025-08-24T16:13:42+00:00', 'source': 'pdfs\\\\DA1.pdf', 'total_pages': 123, 'page': 11, 'page_label': '12'}, page_content='Measures of Dispersion or Variability\\n\\uf075 Range: difference between the highest (maximum) and the lowest (minimum)\\n\\uf075 Mean Absolute Difference (MAD): average of the absolute differences between the \\nobservations and the mean\\n\\uf075 Variance: average of the squared differences between the observations and the mean\\n\\uf075 Standard Deviation: square root of variance\\n\\uf075 Coefficient of Variation:  Used to compare variability of two or more data sets\\nMeasures of Association\\n\\uf075 Covariance: measures the direction of the linear relationship \\n\\uf075 Correlation Coefficient: describes both the direction and strength of the linear relationship\\n\\uf075 -1 is perfect negative linear correlation\\n\\uf075 0 is no correlation\\n\\uf075 1 is perfect positive linear correlation'),\n",
       " Document(metadata={'producer': 'iLovePDF', 'creator': 'PyPDF', 'creationdate': '', 'moddate': '2025-08-24T16:13:42+00:00', 'source': 'pdfs\\\\DA1.pdf', 'total_pages': 123, 'page': 12, 'page_label': '13'}, page_content='Relative Location\\nEmpirical Rule\\nZ score: distance of an observation \\n(x) from the mean (x bar) in terms \\nof standard deviations (s)\\nOutliers defined as outside -3s & 3s'),\n",
       " Document(metadata={'producer': 'iLovePDF', 'creator': 'PyPDF', 'creationdate': '', 'moddate': '2025-08-24T16:13:42+00:00', 'source': 'pdfs\\\\DA1.pdf', 'total_pages': 123, 'page': 13, 'page_label': '14'}, page_content='Resources\\n\\uf075 R: https://www.rstudio.com/resources/cheatsheets/\\n\\uf075 Python: https://www.pythoncheatsheet.org/\\n\\uf075 Excel: https://www.investintech.com/resources/articles/excelcheatsheet/\\n\\uf075 Statistics Formulas: http://web.mit.edu/~csvoss/Public/usabo/stats_handout.pdf'),\n",
       " Document(metadata={'producer': 'iLovePDF', 'creator': 'PyPDF', 'creationdate': '', 'moddate': '2025-08-24T16:13:42+00:00', 'source': 'pdfs\\\\DA1.pdf', 'total_pages': 123, 'page': 14, 'page_label': '15'}, page_content='1-1\\n1\\nData and Data \\nPreparation\\nBusiness Statistics: \\nCommunicating with Numbers, 4e\\nBy Sanjiv Jaggia and Alison Kelly\\nCopyright 2022 © McGraw Hill LLC. All rights reserved. No reproduction or distribution without the prior written consent \\nof McGraw Hill LLC.'),\n",
       " Document(metadata={'producer': 'iLovePDF', 'creator': 'PyPDF', 'creationdate': '', 'moddate': '2025-08-24T16:13:42+00:00', 'source': 'pdfs\\\\DA1.pdf', 'total_pages': 123, 'page': 15, 'page_label': '16'}, page_content='1-2\\nCopyright ©2022 McGraw-Hill Education. All rights reserved. No reproduction or distribution without the prior \\nwritten consent of McGraw-Hill Education.\\nBUSINESS STATISTICS: COMMUNICATING WITH NUMBERS, 4e | Jaggia, Kelly\\n© McGraw Hill.\\n1-2\\nChapter 1 Learning Objectives (LOs)\\nLO 1.1 Explain the various data types.\\nLO 1.2 Describe variables and types of measurement scales.\\nLO 1.3   Inspect and explore data.\\nLO 1.4   Apply data subsetting.'),\n",
       " Document(metadata={'producer': 'iLovePDF', 'creator': 'PyPDF', 'creationdate': '', 'moddate': '2025-08-24T16:13:42+00:00', 'source': 'pdfs\\\\DA1.pdf', 'total_pages': 123, 'page': 16, 'page_label': '17'}, page_content='1-3\\nCopyright ©2022 McGraw-Hill Education. All rights reserved. No reproduction or distribution without the prior \\nwritten consent of McGraw-Hill Education.\\nBUSINESS STATISTICS: COMMUNICATING WITH NUMBERS, 4e | Jaggia, Kelly\\n© McGraw Hill.\\n1-3\\nIntroductory Case: Retail Customer Data 1\\nDesign a marketing campaign for Organic Food Superstore.\\nCustID Sex Race BirthDate … Channel\\n1530016 Female Black 12/16/1986 … SM\\n1531136 Male White 5/9/1993 … TV\\n…\\n…\\n…\\n…\\n…\\n…\\n1579979 Male White 7/5/1999 … SM\\nUse the data set to: \\n• Identify Organic Food Superstore’s college-educated millennial customers.\\n• Compare the profiles of female and male college-educated millennial \\ncustomers.'),\n",
       " Document(metadata={'producer': 'iLovePDF', 'creator': 'PyPDF', 'creationdate': '', 'moddate': '2025-08-24T16:13:42+00:00', 'source': 'pdfs\\\\DA1.pdf', 'total_pages': 123, 'page': 17, 'page_label': '18'}, page_content='1-4\\nCopyright ©2022 McGraw-Hill Education. All rights reserved. No reproduction or distribution without the prior \\nwritten consent of McGraw-Hill Education.\\nBUSINESS STATISTICS: COMMUNICATING WITH NUMBERS, 4e | Jaggia, Kelly\\n© McGraw Hill.\\n1-4\\n1.1: Types of Data 1\\nData are compilations of facts, figures, or other contents, both numerical and \\nnon-numerical.\\n• All types/formats are generated from multiple sources.\\n• Customers/businesses use data from to help make decisions.\\n• Statistics is the language of data.\\nStatistics is the science that deals with the collection, preparation, analysis, \\ninterpretation, and presentation of data.\\n• First: find the right data and prepare it for the analysis.\\n• Second: use the appropriate statistical tool, which depends on the data.\\n• Third: clearly communicate information with actionable business insights.'),\n",
       " Document(metadata={'producer': 'iLovePDF', 'creator': 'PyPDF', 'creationdate': '', 'moddate': '2025-08-24T16:13:42+00:00', 'source': 'pdfs\\\\DA1.pdf', 'total_pages': 123, 'page': 18, 'page_label': '19'}, page_content='1-5\\nCopyright ©2022 McGraw-Hill Education. All rights reserved. No reproduction or distribution without the prior \\nwritten consent of McGraw-Hill Education.\\nBUSINESS STATISTICS: COMMUNICATING WITH NUMBERS, 4e | Jaggia, Kelly\\n© McGraw Hill.\\n1-5\\n1.1: Types of Data 2\\nThere are two branches of statistics: descriptive and inferential statistics.\\nDescriptive statistics refers to the summary of important aspects of a data \\nset. \\n• Includes collecting, organizing, and presenting the data in the form of charts and \\ntables.\\n• Often calculate numerical measures (typical value, variability).\\nInferential statistics refers to drawing conclusions about a larger set of data \\n(population) based on a smaller set of data (sample).\\n• A population consists of all items/members of interest.\\n• A sample is a subset of the population.\\nWe rely on sample data to make inferences about various characteristics of \\nthe population.'),\n",
       " Document(metadata={'producer': 'iLovePDF', 'creator': 'PyPDF', 'creationdate': '', 'moddate': '2025-08-24T16:13:42+00:00', 'source': 'pdfs\\\\DA1.pdf', 'total_pages': 123, 'page': 19, 'page_label': '20'}, page_content='1-6\\nCopyright ©2022 McGraw-Hill Education. All rights reserved. No reproduction or distribution without the prior \\nwritten consent of McGraw-Hill Education.\\nBUSINESS STATISTICS: COMMUNICATING WITH NUMBERS, 4e | Jaggia, Kelly\\n© McGraw Hill.\\n1-6\\n1.1: Types of Data 3\\nWe analyze sample data and calculate a sample statistic to make inferences about the \\nunknown population parameter.\\nIt is generally not feasible to obtain population data.\\n• Obtaining information on the entire population is expensive.\\n• It is impossible to examine every member of the population.\\nSample data are generally collected in one of two ways.'),\n",
       " Document(metadata={'producer': 'iLovePDF', 'creator': 'PyPDF', 'creationdate': '', 'moddate': '2025-08-24T16:13:42+00:00', 'source': 'pdfs\\\\DA1.pdf', 'total_pages': 123, 'page': 20, 'page_label': '21'}, page_content='1-7\\nCopyright ©2022 McGraw-Hill Education. All rights reserved. No reproduction or distribution without the prior \\nwritten consent of McGraw-Hill Education.\\nBUSINESS STATISTICS: COMMUNICATING WITH NUMBERS, 4e | Jaggia, Kelly\\n© McGraw Hill.\\n1-7\\n1.1: Types of Data 4\\n• Cross-sectional data refers to data collected by recording a characteristic of \\nmany subjects at the same point in time, or without regard to differences in \\ntime.\\n• Example: 2018-2019 NBA Eastern Conference standings.\\nTeam name Wins Losses Winning percentage\\nMilwaukee Bucks 60 22 0.732\\nToronto Raptors* 58 24 0.707\\nPhiladephia 76ers 51 31 0.622\\nBoston Celtics 49 33 0.598\\nIndiana Pacers 48 34 0.585\\nBrooklyn Nets 42 40 0.512\\nOrlando Magic 42 40 0.512\\nDetroit Pistons 41 41 0.500\\n*The Toronto Raptors won their first NBA title during the 2018-2019 season.'),\n",
       " Document(metadata={'producer': 'iLovePDF', 'creator': 'PyPDF', 'creationdate': '', 'moddate': '2025-08-24T16:13:42+00:00', 'source': 'pdfs\\\\DA1.pdf', 'total_pages': 123, 'page': 21, 'page_label': '22'}, page_content='1-8\\nCopyright ©2022 McGraw-Hill Education. All rights reserved. No reproduction or distribution without the prior \\nwritten consent of McGraw-Hill Education.\\nBUSINESS STATISTICS: COMMUNICATING WITH NUMBERS, 4e | Jaggia, Kelly\\n© McGraw Hill.\\n1-8\\n1.1: Types of Data 5\\n• Time series data refers to data collected over several time periods focusing on \\ncertain groups of people, specific events, or objects. \\n• Time series data can include hourly, daily, weekly, monthly, quarterly, or annual \\nobservations. \\n• Example: homeownership rates (%) in the US.\\nAccess the text alternative for slide images.'),\n",
       " Document(metadata={'producer': 'iLovePDF', 'creator': 'PyPDF', 'creationdate': '', 'moddate': '2025-08-24T16:13:42+00:00', 'source': 'pdfs\\\\DA1.pdf', 'total_pages': 123, 'page': 22, 'page_label': '23'}, page_content='1-9\\nCopyright ©2022 McGraw-Hill Education. All rights reserved. No reproduction or distribution without the prior \\nwritten consent of McGraw-Hill Education.\\nBUSINESS STATISTICS: COMMUNICATING WITH NUMBERS, 4e | Jaggia, Kelly\\n© McGraw Hill.\\n1-9\\n1.1: Types of Data 6\\nStructured data,\\n• Reside in a pre-defined, row-column format.\\n• Spreadsheet or database applications.\\n• Enter, store, query, and analyze.\\n• Numerical information that is objective and not open to interpretation.\\nAccess the text alternative for slide images.'),\n",
       " Document(metadata={'producer': 'iLovePDF', 'creator': 'PyPDF', 'creationdate': '', 'moddate': '2025-08-24T16:13:42+00:00', 'source': 'pdfs\\\\DA1.pdf', 'total_pages': 123, 'page': 23, 'page_label': '24'}, page_content='1-10\\nCopyright ©2022 McGraw-Hill Education. All rights reserved. No reproduction or distribution without the prior \\nwritten consent of McGraw-Hill Education.\\nBUSINESS STATISTICS: COMMUNICATING WITH NUMBERS, 4e | Jaggia, Kelly\\n© McGraw Hill.\\n1-10\\n1.1: Types of Data 7\\nToday, only about 20% of all data used in business decisions are \\nstructured.\\nUnstructured data.\\n• Do not conform to a pre-defined, row-column format.\\n• Textual and multimedia content.\\n• Do not conform to database structures.\\n• These data may have some implied structure.\\n• Still considered unstructured.\\n• Do not conform to a row-column model required in most database \\nsystems.\\n• Example: social media data such as Twitter, YouTube, Facebook, and blogs.'),\n",
       " Document(metadata={'producer': 'iLovePDF', 'creator': 'PyPDF', 'creationdate': '', 'moddate': '2025-08-24T16:13:42+00:00', 'source': 'pdfs\\\\DA1.pdf', 'total_pages': 123, 'page': 24, 'page_label': '25'}, page_content='1-11\\nCopyright ©2022 McGraw-Hill Education. All rights reserved. No reproduction or distribution without the prior \\nwritten consent of McGraw-Hill Education.\\nBUSINESS STATISTICS: COMMUNICATING WITH NUMBERS, 4e | Jaggia, Kelly\\n© McGraw Hill.\\n1-11\\n1.1: Types of Data 8\\nBusinesses generate and gather more and more data at an increasing pace: Big Data.\\n• A massive volume of structured and unstructured data.\\n• Extremely difficult to manage, process, and analyze using traditional data processing tools.\\n• Presents great opportunities to gain knowledge and game-changing intelligence.\\n“[H]igh-volume, high-velocity and/or high-variety information assets that demand \\ncost-effective, innovative forms of information processing that enable enhanced \\ninsight, decision making, and process automation” (www.gartner.com).\\nDoes not imply complete (population) data.\\nBig data may not be used when available.\\n• Inconvenient and computationally burdensome.\\n• Benefits may not justify costs.'),\n",
       " Document(metadata={'producer': 'iLovePDF', 'creator': 'PyPDF', 'creationdate': '', 'moddate': '2025-08-24T16:13:42+00:00', 'source': 'pdfs\\\\DA1.pdf', 'total_pages': 123, 'page': 25, 'page_label': '26'}, page_content='1-12\\nCopyright ©2022 McGraw-Hill Education. All rights reserved. No reproduction or distribution without the prior \\nwritten consent of McGraw-Hill Education.\\nBUSINESS STATISTICS: COMMUNICATING WITH NUMBERS, 4e | Jaggia, Kelly\\n© McGraw Hill.\\n1-12\\n1.1: Types of Data 9\\nThere are three characteristics of big data.\\n• Volume: immense amount of data complied for a single or multiple sources.\\n• Velocity: generated at a rapid speed, management is a critical issue.\\n• Variety: all types, forms, granularity, structured or unstructured.\\nAdditional characteristics.\\n• Veracity: credibility and quality of the data, reliability.\\n• Values: methodological plan for formulating questions, curating the right data and \\nunlocking hidden potential.\\nHaving a plethora of data does not guarantee that useful insights or \\nmeasurable improvements will be generated.'),\n",
       " Document(metadata={'producer': 'iLovePDF', 'creator': 'PyPDF', 'creationdate': '', 'moddate': '2025-08-24T16:13:42+00:00', 'source': 'pdfs\\\\DA1.pdf', 'total_pages': 123, 'page': 26, 'page_label': '27'}, page_content='1-13\\nCopyright ©2022 McGraw-Hill Education. All rights reserved. No reproduction or distribution without the prior \\nwritten consent of McGraw-Hill Education.\\nBUSINESS STATISTICS: COMMUNICATING WITH NUMBERS, 4e | Jaggia, Kelly\\n© McGraw Hill.\\n1-13\\n1.1: Types of Data 10\\nThere is an abundance of data on the Internet.\\nMany experts believe that 90% of the data in the world today was created in \\nthe last two years alone.\\nIt is easy to access and find data by using a search engine like Google.\\nThere are several sources of data.\\n• Bureau of Economic Analysis.\\n• Bureau of Labor Statistics.\\n• Federal Research Economic Data.\\n• U.S. Census Bureau.\\n• National Climate Data Center.\\n• Yahoo Finance, Google Finance.\\n• Zillow.\\n• ESPN.'),\n",
       " Document(metadata={'producer': 'iLovePDF', 'creator': 'PyPDF', 'creationdate': '', 'moddate': '2025-08-24T16:13:42+00:00', 'source': 'pdfs\\\\DA1.pdf', 'total_pages': 123, 'page': 27, 'page_label': '28'}, page_content='1-14\\nCopyright ©2022 McGraw-Hill Education. All rights reserved. No reproduction or distribution without the prior \\nwritten consent of McGraw-Hill Education.\\nBUSINESS STATISTICS: COMMUNICATING WITH NUMBERS, 4e | Jaggia, Kelly\\n© McGraw Hill.\\n1-14\\n1.2: Variables and Scales of Measurement 1\\nA variable is a characteristic of interest that differs in kind or degree among \\nvarious observations (records).\\nThere are two types of variables: categorical and numeric.\\nCategorical Data.\\n• Also called qualitative.\\n• Represent categories.\\n• Labels or names to identify distinguishing characteristics.\\n• Can be defined by two or more categories.\\n• Coded into numbers for data processing.\\n• Example: marital status, grade in a course.'),\n",
       " Document(metadata={'producer': 'iLovePDF', 'creator': 'PyPDF', 'creationdate': '', 'moddate': '2025-08-24T16:13:42+00:00', 'source': 'pdfs\\\\DA1.pdf', 'total_pages': 123, 'page': 28, 'page_label': '29'}, page_content='1-15\\nCopyright ©2022 McGraw-Hill Education. All rights reserved. No reproduction or distribution without the prior \\nwritten consent of McGraw-Hill Education.\\nBUSINESS STATISTICS: COMMUNICATING WITH NUMBERS, 4e | Jaggia, Kelly\\n© McGraw Hill.\\n1-15\\n1.2: Variables and Scales of Measurement 2\\nFor a numerical variable, we use numbers to identify the distinguishing \\ncharacteristic of each observation.\\nNumeric Data.\\n• Also called quantitative.\\n• Represent meaningful numbers.\\n• Either discrete or continuous.\\nA discrete variable assumes a countable number of values.\\n• The values need not be whole numbers.\\n• Example: number of children in a family.'),\n",
       " Document(metadata={'producer': 'iLovePDF', 'creator': 'PyPDF', 'creationdate': '', 'moddate': '2025-08-24T16:13:42+00:00', 'source': 'pdfs\\\\DA1.pdf', 'total_pages': 123, 'page': 29, 'page_label': '30'}, page_content='1-16\\nCopyright ©2022 McGraw-Hill Education. All rights reserved. No reproduction or distribution without the prior \\nwritten consent of McGraw-Hill Education.\\nBUSINESS STATISTICS: COMMUNICATING WITH NUMBERS, 4e | Jaggia, Kelly\\n© McGraw Hill.\\n1-16\\n1.2: Variables and Scales of Measurement 3\\nA continuous variable assumes an uncountable number of values within an \\ninterval.\\n• In practice, often measure in discrete values.\\n• Example: weight of a newborn baby.\\nIn order to choose the appropriate techniques for summarizing and analyzing \\nvariables, we need to distinguish between the different measurement scales.'),\n",
       " Document(metadata={'producer': 'iLovePDF', 'creator': 'PyPDF', 'creationdate': '', 'moddate': '2025-08-24T16:13:42+00:00', 'source': 'pdfs\\\\DA1.pdf', 'total_pages': 123, 'page': 30, 'page_label': '31'}, page_content='1-17\\nCopyright ©2022 McGraw-Hill Education. All rights reserved. No reproduction or distribution without the prior \\nwritten consent of McGraw-Hill Education.\\nBUSINESS STATISTICS: COMMUNICATING WITH NUMBERS, 4e | Jaggia, Kelly\\n© McGraw Hill.\\n1-17\\n1.2: Variables and Scales of Measurement 4\\nThere are four major scales: nominal, ordinal, interval, ratio.\\nNominal and ordinal scales are used for categorical variables.\\nNominal.\\n• Least sophisticated.\\n• Represent categories or groups.\\n• Values differ by label or name.\\n• Example: marital status.\\nOrdinal.\\n• Stronger level of measurement.\\n• Categorize and rank data with respect to some characteristic.\\n• Cannot interpret the difference between the ranked values, numbers are arbitrary.\\n• Example: reviews from 1 star (poor) to 5 starts (outstanding).'),\n",
       " Document(metadata={'producer': 'iLovePDF', 'creator': 'PyPDF', 'creationdate': '', 'moddate': '2025-08-24T16:13:42+00:00', 'source': 'pdfs\\\\DA1.pdf', 'total_pages': 123, 'page': 31, 'page_label': '32'}, page_content='1-18\\nCopyright ©2022 McGraw-Hill Education. All rights reserved. No reproduction or distribution without the prior \\nwritten consent of McGraw-Hill Education.\\nBUSINESS STATISTICS: COMMUNICATING WITH NUMBERS, 4e | Jaggia, Kelly\\n© McGraw Hill.\\n1-18\\n1.2: Variables and Scales of Measurement 5\\nCategorical variable are typically expressed in words but are coded into \\nnumbers for purposes of data processing.\\n• Typically count the number of observations that fall into each category (or find \\npercentages).\\n• Unable to perform meaningful arithmetic operations.'),\n",
       " Document(metadata={'producer': 'iLovePDF', 'creator': 'PyPDF', 'creationdate': '', 'moddate': '2025-08-24T16:13:42+00:00', 'source': 'pdfs\\\\DA1.pdf', 'total_pages': 123, 'page': 32, 'page_label': '33'}, page_content='1-19\\nCopyright ©2022 McGraw-Hill Education. All rights reserved. No reproduction or distribution without the prior \\nwritten consent of McGraw-Hill Education.\\nBUSINESS STATISTICS: COMMUNICATING WITH NUMBERS, 4e | Jaggia, Kelly\\n© McGraw Hill.\\n1-19\\n1.2: Variables and Scales of Measurement 6\\nInterval and ratio scales are used for numerical variables.\\nInterval.\\n• Categorize and rank, differences are meaningful.\\n• Zero value is arbitrary and does not reflect absence of characteristic.\\n• Ratios are not meaningful.\\n• Example: temperature.\\nRatio.\\n• Strongest level of measurement.\\n• A true zero point, reflects absence of characteristic.\\n• Ratios are meaningful.\\n• Example: profits.\\nArithmetic operations are valid on interval- and ratio-scaled variable.'),\n",
       " Document(metadata={'producer': 'iLovePDF', 'creator': 'PyPDF', 'creationdate': '', 'moddate': '2025-08-24T16:13:42+00:00', 'source': 'pdfs\\\\DA1.pdf', 'total_pages': 123, 'page': 33, 'page_label': '34'}, page_content='1-20\\nCopyright ©2022 McGraw-Hill Education. All rights reserved. No reproduction or distribution without the prior \\nwritten consent of McGraw-Hill Education.\\nBUSINESS STATISTICS: COMMUNICATING WITH NUMBERS, 4e | Jaggia, Kelly\\n© McGraw Hill.\\n1-20\\n1.2: Variables and Scales of Measurement 7\\n• Example: The owner of a ski resort gathers data on tweens.\\nTween Music Streaming Food Quality\\nClosing \\nTime\\nOwn Money \\nSpent ($)\\n1 Apple Music 4 5:00 pm 20\\n2 Pandora 2 5:00 pm 10\\n…\\n…\\n…\\n…\\n…\\n20 Spotify 2 4:30 pm 10\\n• Music: nominal.\\n• Food quality: ordinal.\\n• Closing time: interval.\\n• Own money spent: ratio.'),\n",
       " Document(metadata={'producer': 'iLovePDF', 'creator': 'PyPDF', 'creationdate': '', 'moddate': '2025-08-24T16:13:42+00:00', 'source': 'pdfs\\\\DA1.pdf', 'total_pages': 123, 'page': 34, 'page_label': '35'}, page_content='1-21\\nCopyright ©2022 McGraw-Hill Education. All rights reserved. No reproduction or distribution without the prior \\nwritten consent of McGraw-Hill Education.\\nBUSINESS STATISTICS: COMMUNICATING WITH NUMBERS, 4e | Jaggia, Kelly\\n© McGraw Hill.\\n1-21\\n1.3: Data Preparation 1\\nWe often spend a considerable amount of time inspecting and preparing the \\ndata for the subsequent analysis.\\n• Counting and sorting.\\n• Handling missing values.\\n• Subsetting.\\nCounting and Sorting.\\n• Among the very first tasks analysts perform.\\n• Gain a better understanding and insights into the data.\\n• Help to verify that the data set is complete or determine if there are missing \\nvalues.\\n• Sorting allows us to review the range of values for each variable.\\n• Sort based on a single or multiple variables.'),\n",
       " Document(metadata={'producer': 'iLovePDF', 'creator': 'PyPDF', 'creationdate': '', 'moddate': '2025-08-24T16:13:42+00:00', 'source': 'pdfs\\\\DA1.pdf', 'total_pages': 123, 'page': 35, 'page_label': '36'}, page_content='1-22\\nCopyright ©2022 McGraw-Hill Education. All rights reserved. No reproduction or distribution without the prior \\nwritten consent of McGraw-Hill Education.\\nBUSINESS STATISTICS: COMMUNICATING WITH NUMBERS, 4e | Jaggia, Kelly\\n© McGraw Hill.\\n1-22\\n1.3: Data Preparation 2\\nThere are two common strategies for dealing with missing \\nvalues.\\nThe omission strategy recommends that observations with \\nmissing values be excluded from subsequent analysis.\\nThe imputation strategy recommends that the missing values be \\nreplaced with some reasonable imputed values.\\n• Numeric variables: replace with the average.\\n• Categorical variables: replace with the predominant category.'),\n",
       " Document(metadata={'producer': 'iLovePDF', 'creator': 'PyPDF', 'creationdate': '', 'moddate': '2025-08-24T16:13:42+00:00', 'source': 'pdfs\\\\DA1.pdf', 'total_pages': 123, 'page': 36, 'page_label': '37'}, page_content='1-23\\nCopyright ©2022 McGraw-Hill Education. All rights reserved. No reproduction or distribution without the prior \\nwritten consent of McGraw-Hill Education.\\nBUSINESS STATISTICS: COMMUNICATING WITH NUMBERS, 4e | Jaggia, Kelly\\n© McGraw Hill.\\n1-23\\n1.3: Data Preparation 3\\nSubsetting is the process of extracting a portion of the data set \\nthat is relevant for subsequent statistical analysis.\\n• The objective of the analysis is to compare two subsets of the data.\\n• Eliminate observations that contain missing values, low-quality data, \\nor outliers.\\n• Excluding variables that contain redundant information, or variables \\nwith excessive amounts of missing values.\\nWe can also subset data based on data ranges.'),\n",
       " Document(metadata={'producer': 'iLovePDF', 'creator': 'PyPDF', 'creationdate': '', 'moddate': '2025-08-24T16:13:42+00:00', 'source': 'pdfs\\\\DA1.pdf', 'total_pages': 123, 'page': 37, 'page_label': '38'}, page_content='1-24\\nEnd of Main Content\\nCopyright 2022 © McGraw Hill LLC. All rights reserved. No reproduction or distribution without the prior written \\nconsent of McGraw Hill LLC.'),\n",
       " Document(metadata={'producer': 'iLovePDF', 'creator': 'PyPDF', 'creationdate': '', 'moddate': '2025-08-24T16:13:42+00:00', 'source': 'pdfs\\\\DA1.pdf', 'total_pages': 123, 'page': 38, 'page_label': '39'}, page_content='2-1\\n2\\nTabular and Graphical \\nMethods\\nBusiness Statistics: \\nCommunicating with Numbers, 4e\\nBy Sanjiv Jaggia and Alison Kelly\\nCopyright 2022 © McGraw Hill LLC. All rights reserved. No reproduction or distribution without the prior written consent \\nof McGraw Hill LLC.'),\n",
       " Document(metadata={'producer': 'iLovePDF', 'creator': 'PyPDF', 'creationdate': '', 'moddate': '2025-08-24T16:13:42+00:00', 'source': 'pdfs\\\\DA1.pdf', 'total_pages': 123, 'page': 39, 'page_label': '40'}, page_content='2-2\\nCopyright ©2022 McGraw-Hill Education. All rights reserved. No reproduction or distribution without the prior \\nwritten consent of McGraw-Hill Education.\\nBUSINESS STATISTICS: COMMUNICATING WITH NUMBERS, 4e | Jaggia, Kelly\\n© McGraw Hill.\\n2-2\\nChapter 2 Learning Objectives (LOs)\\nLO 2.1 Construct and interpret a frequency distribution for \\na categorical variable.\\nLO 2.2 Construct and interpret a bar chart and a pie chart.\\nLO 2.3 Construct and interpret a contingency table and a \\nstacked bar chart for two categorical variables.\\nLO 2.4 Construct and interpret a frequency distribution for \\na numerical variable\\nLO 2.5 Construct and interpret a histogram, a polygon, and \\nan ogive. \\nLO 2.6 Construct and interpret a scatterplot, a scatterplot \\nwith a categorical variable, and a line chart.\\nLO 2.7 Construct and interpret a stem-and-leaf diagram.'),\n",
       " Document(metadata={'producer': 'iLovePDF', 'creator': 'PyPDF', 'creationdate': '', 'moddate': '2025-08-24T16:13:42+00:00', 'source': 'pdfs\\\\DA1.pdf', 'total_pages': 123, 'page': 40, 'page_label': '41'}, page_content='2-3\\nCopyright ©2022 McGraw-Hill Education. All rights reserved. No reproduction or distribution without the prior \\nwritten consent of McGraw-Hill Education.\\nBUSINESS STATISTICS: COMMUNICATING WITH NUMBERS, 4e | Jaggia, Kelly\\n© McGraw Hill.\\n2-3\\nIntroductory Case: House Prices in Punta \\nGorda 1\\n• A relocation specialist for a real estate firm gathers recent house sales \\ndata for a client.\\nTransaction Price Sqft Beds Baths Built Type\\n1 200 1684 3 2 2005 Single\\n2 435 2358 3 2.5 2017 Single\\n…\\n…\\n…\\n…\\n…\\n…\\n…\\n40 192 1154 2 2 2019 Condo\\n• Use the sample information to:\\n1. Make summary statements concerning the range of house prices.\\n2. Comment on where house prices tend to cluster.\\n3. Examine the relationship between a house price and its size.'),\n",
       " Document(metadata={'producer': 'iLovePDF', 'creator': 'PyPDF', 'creationdate': '', 'moddate': '2025-08-24T16:13:42+00:00', 'source': 'pdfs\\\\DA1.pdf', 'total_pages': 123, 'page': 41, 'page_label': '42'}, page_content='2-4\\nCopyright ©2022 McGraw-Hill Education. All rights reserved. No reproduction or distribution without the prior \\nwritten consent of McGraw-Hill Education.\\nBUSINESS STATISTICS: COMMUNICATING WITH NUMBERS, 4e | Jaggia, Kelly\\n© McGraw Hill.\\n2-4\\n2.1 Methods to Visualize a Categorical \\nVariable 1\\nA categorical variable consists of observations that \\nrepresent labels or names.\\nSummarize the data with a frequency distribution.\\n• Group the data into categories and record the number of \\nobservations that fall into each category.\\n• The relative frequency for each category is the proportion of \\nobservations in each category. \\n• Multiply the proportions by 100 to get percentages.'),\n",
       " Document(metadata={'producer': 'iLovePDF', 'creator': 'PyPDF', 'creationdate': '', 'moddate': '2025-08-24T16:13:42+00:00', 'source': 'pdfs\\\\DA1.pdf', 'total_pages': 123, 'page': 42, 'page_label': '43'}, page_content='2-5\\nCopyright ©2022 McGraw-Hill Education. All rights reserved. No reproduction or distribution without the prior \\nwritten consent of McGraw-Hill Education.\\nBUSINESS STATISTICS: COMMUNICATING WITH NUMBERS, 4e | Jaggia, Kelly\\n© McGraw Hill.\\n2-5\\n2.1 Methods to Visualize a Categorical \\nVariable 2\\n• Example: Myers-Briggs assessment personality types for \\n1,000 employees at a technology firm.\\nPersonality Frequency Relative \\nFrequency\\nPercent \\nFrequency\\nAnalyst 116 0.116 11.6\\nDiplomat 324 0.324 32.4\\nExplorer 404 0.404 40.4\\nSentinel 156 0.156 15.6'),\n",
       " Document(metadata={'producer': 'iLovePDF', 'creator': 'PyPDF', 'creationdate': '', 'moddate': '2025-08-24T16:13:42+00:00', 'source': 'pdfs\\\\DA1.pdf', 'total_pages': 123, 'page': 43, 'page_label': '44'}, page_content='2-6\\nCopyright ©2022 McGraw-Hill Education. All rights reserved. No reproduction or distribution without the prior \\nwritten consent of McGraw-Hill Education.\\nBUSINESS STATISTICS: COMMUNICATING WITH NUMBERS, 4e | Jaggia, Kelly\\n© McGraw Hill.\\n2-6\\n2.1 Methods to Visualize a Categorical \\nVariable 3\\nA bar chart depicts the frequency or relative frequency for \\neach category of the categorial variable.\\n• Series of either horizontal or vertical bars.\\n• Bar lengths proportional to the values they are depicting.\\nA pie chart is a segmented circle whose segments portray \\nthe relative frequencies of the categories of a qualitative \\nvariable.'),\n",
       " Document(metadata={'producer': 'iLovePDF', 'creator': 'PyPDF', 'creationdate': '', 'moddate': '2025-08-24T16:13:42+00:00', 'source': 'pdfs\\\\DA1.pdf', 'total_pages': 123, 'page': 44, 'page_label': '45'}, page_content='2-7\\nCopyright ©2022 McGraw-Hill Education. All rights reserved. No reproduction or distribution without the prior \\nwritten consent of McGraw-Hill Education.\\nBUSINESS STATISTICS: COMMUNICATING WITH NUMBERS, 4e | Jaggia, Kelly\\n© McGraw Hill.\\n2-7\\n2.1 Methods to Visualize a Categorical \\nVariable 4\\n• Example: Myers-Briggs assessment personality types for \\n1000 employees at a technology firm.\\nAccess the text alternative for slide images.'),\n",
       " Document(metadata={'producer': 'iLovePDF', 'creator': 'PyPDF', 'creationdate': '', 'moddate': '2025-08-24T16:13:42+00:00', 'source': 'pdfs\\\\DA1.pdf', 'total_pages': 123, 'page': 45, 'page_label': '46'}, page_content='2-8\\nCopyright ©2022 McGraw-Hill Education. All rights reserved. No reproduction or distribution without the prior \\nwritten consent of McGraw-Hill Education.\\nBUSINESS STATISTICS: COMMUNICATING WITH NUMBERS, 4e | Jaggia, Kelly\\n© McGraw Hill.\\n2-8\\n2.1 Methods to Visualize a Categorical \\nVariable 5\\n• The simplest graph should be used.\\n• Axes should be clearly marked with numbers and scales.\\n• Bars on bar charts should have the same width.\\n• Vertical axis should not have a very high values as an upper limit.\\nAccess the text alternative for slide images.'),\n",
       " Document(metadata={'producer': 'iLovePDF', 'creator': 'PyPDF', 'creationdate': '', 'moddate': '2025-08-24T16:13:42+00:00', 'source': 'pdfs\\\\DA1.pdf', 'total_pages': 123, 'page': 46, 'page_label': '47'}, page_content='2-9\\nCopyright ©2022 McGraw-Hill Education. All rights reserved. No reproduction or distribution without the prior \\nwritten consent of McGraw-Hill Education.\\nBUSINESS STATISTICS: COMMUNICATING WITH NUMBERS, 4e | Jaggia, Kelly\\n© McGraw Hill.\\n2-9\\n2.1 Methods to Visualize a Categorical \\nVariable 6\\n• Vertical axis should not be stretched.\\nAccess the text alternative for slide images.'),\n",
       " Document(metadata={'producer': 'iLovePDF', 'creator': 'PyPDF', 'creationdate': '', 'moddate': '2025-08-24T16:13:42+00:00', 'source': 'pdfs\\\\DA1.pdf', 'total_pages': 123, 'page': 47, 'page_label': '48'}, page_content='2-10\\nCopyright ©2022 McGraw-Hill Education. All rights reserved. No reproduction or distribution without the prior \\nwritten consent of McGraw-Hill Education.\\nBUSINESS STATISTICS: COMMUNICATING WITH NUMBERS, 4e | Jaggia, Kelly\\n© McGraw Hill.\\n2-10\\n2.2 Methods to Visualize the Relationship \\nBetween Two Categorical Variables 1\\nUse a contingency table to examine the relationship between two \\ncategorical variables.\\n• Frequencies for two categorical variables.\\n• Each cell represents a mutually exclusive combination of the pair of values.\\nUse a stacked column chart to visualize more than one categorical \\nvariable.\\n• Graphically shows the contingency table.\\n• Allows for the comparison compositive within each category.'),\n",
       " Document(metadata={'producer': 'iLovePDF', 'creator': 'PyPDF', 'creationdate': '', 'moddate': '2025-08-24T16:13:42+00:00', 'source': 'pdfs\\\\DA1.pdf', 'total_pages': 123, 'page': 48, 'page_label': '49'}, page_content='2-11\\nCopyright ©2022 McGraw-Hill Education. All rights reserved. No reproduction or distribution without the prior \\nwritten consent of McGraw-Hill Education.\\nBUSINESS STATISTICS: COMMUNICATING WITH NUMBERS, 4e | Jaggia, Kelly\\n© McGraw Hill.\\n2-11\\n2.2 Methods to Visualize the Relationship \\nBetween Two Categorical Variables 2\\n• Example: Myers-Brigg personality assessment and sex.\\nPersonality\\nSex Analyst Diplomat Explorer Sentinel\\nFemale 55 164 194 79\\nMale 61 160 210 77\\nAccess the text alternative for slide images.'),\n",
       " Document(metadata={'producer': 'iLovePDF', 'creator': 'PyPDF', 'creationdate': '', 'moddate': '2025-08-24T16:13:42+00:00', 'source': 'pdfs\\\\DA1.pdf', 'total_pages': 123, 'page': 49, 'page_label': '50'}, page_content='2-12\\nCopyright ©2022 McGraw-Hill Education. All rights reserved. No reproduction or distribution without the prior \\nwritten consent of McGraw-Hill Education.\\nBUSINESS STATISTICS: COMMUNICATING WITH NUMBERS, 4e | Jaggia, Kelly\\n© McGraw Hill.\\n2-12\\n2.3 Methods to Visualize a Numeric Variable 1\\n• For a categorical, the raw data could be categorized in a \\nwell-defined way.\\n• With a numerical variable, each observation represents a \\nmeaningful amount or count.\\n• Use a frequency distribution to summarize a numerical \\nvariable. \\n• Instead of categories, we construct a series of intervals or \\nclasses.\\n• The data are more manageable using a frequency \\ndistribution, but some detail is lost.'),\n",
       " Document(metadata={'producer': 'iLovePDF', 'creator': 'PyPDF', 'creationdate': '', 'moddate': '2025-08-24T16:13:42+00:00', 'source': 'pdfs\\\\DA1.pdf', 'total_pages': 123, 'page': 50, 'page_label': '51'}, page_content='2-13\\nCopyright ©2022 McGraw-Hill Education. All rights reserved. No reproduction or distribution without the prior \\nwritten consent of McGraw-Hill Education.\\nBUSINESS STATISTICS: COMMUNICATING WITH NUMBERS, 4e | Jaggia, Kelly\\n© McGraw Hill.\\n2-13\\n2.3 Methods to Visualize a Numeric Variable 2\\nWe have to make decisions about the number of \\nintervals and the width of each interval.\\n• The intervals are mutually exclusive.\\n• The total number of intervals usually ranges from 5 to 20.\\n• The intervals are exhaustive.\\n• The intervals are easy to recognize and interpret. \\n• A starting point for approximating the width of each interval is \\ngiven by\\nMaximim Minimum .Number of Intervals\\n−'),\n",
       " Document(metadata={'producer': 'iLovePDF', 'creator': 'PyPDF', 'creationdate': '', 'moddate': '2025-08-24T16:13:42+00:00', 'source': 'pdfs\\\\DA1.pdf', 'total_pages': 123, 'page': 51, 'page_label': '52'}, page_content='2-14\\nCopyright ©2022 McGraw-Hill Education. All rights reserved. No reproduction or distribution without the prior \\nwritten consent of McGraw-Hill Education.\\nBUSINESS STATISTICS: COMMUNICATING WITH NUMBERS, 4e | Jaggia, Kelly\\n© McGraw Hill.\\n2-14\\n2.3 Methods to Visualize a Numeric Variable 3\\n• Example: house prices in Punta Gorda.\\n• Suppose we are going to have 6 intervals.\\n• The maximum is 649 and the minimum is 125.\\n• As a starting point, the width of each interval could be:\\n649 125 87.336\\n− =\\n• This would not give limits that are easily recognizable, so we use 100.\\nInterval (in $1,000s) Frequency\\n100 < x ≤ 200 9\\n200 < x ≤ 300 16\\n300 < x ≤ 400 8\\n400 < x ≤ 500 4\\n500 < x ≤ 600 2\\n600 < x ≤ 700 1'),\n",
       " Document(metadata={'producer': 'iLovePDF', 'creator': 'PyPDF', 'creationdate': '', 'moddate': '2025-08-24T16:13:42+00:00', 'source': 'pdfs\\\\DA1.pdf', 'total_pages': 123, 'page': 52, 'page_label': '53'}, page_content='2-15\\nCopyright ©2022 McGraw-Hill Education. All rights reserved. No reproduction or distribution without the prior \\nwritten consent of McGraw-Hill Education.\\nBUSINESS STATISTICS: COMMUNICATING WITH NUMBERS, 4e | Jaggia, Kelly\\n© McGraw Hill.\\n2-15\\n2.3 Methods to Visualize a Numeric Variable 4\\nIn addition to a frequency distribution, there are three \\nother items to compute.\\n• Relative frequency: proportion (or fraction) of observations \\nthat falls into each interval.\\n• Cumulative frequency: the number of observations that falls \\nbelow the upper limit of a particular interval.\\n• Cumulative relative frequency: the proportion (or fraction) of \\nobservations that falls below the upper limit of a particular \\ninterval.'),\n",
       " Document(metadata={'producer': 'iLovePDF', 'creator': 'PyPDF', 'creationdate': '', 'moddate': '2025-08-24T16:13:42+00:00', 'source': 'pdfs\\\\DA1.pdf', 'total_pages': 123, 'page': 53, 'page_label': '54'}, page_content='2-16\\nCopyright ©2022 McGraw-Hill Education. All rights reserved. No reproduction or distribution without the prior \\nwritten consent of McGraw-Hill Education.\\nBUSINESS STATISTICS: COMMUNICATING WITH NUMBERS, 4e | Jaggia, Kelly\\n© McGraw Hill.\\n2-16\\n2.3 Methods to Visualize a Numeric Variable 6\\n• Example: house prices in Punta Gorda.\\n• Use the previous frequency distribution to determine the below.\\nInterval \\n(in $1,000s) Frequency\\nRelative \\nFrequency\\nCumulative Frequency Cumulative Relative Frequency\\n100 < x ≤ 200 9 0.225 9 0.225\\n200 < x ≤ 300 16 0.400 9 + 16 = 25 0.225 + 0.400 = 0.625\\n300 < x ≤ 400 8 0.200 9 + 16 + 8 = 33 0.225 + 0.400 + 0.200 = 0.825\\n400 < x ≤ 500 4 0.100 9 + 16 +....+ 4 = 37 0.225 + 0.400 +…+ 0.100 = 0.925\\n500 < x ≤ 600 2 0.050 9 + 16 +....+ 2 = 39 0.225 + 0.400 +…+ 0.050 = 0.975\\n600 < x ≤ 700 1 0.025 9 + 16 +....+ 1 = 40 0.225 + 0.400 +…+ 0.025 = 1.000'),\n",
       " Document(metadata={'producer': 'iLovePDF', 'creator': 'PyPDF', 'creationdate': '', 'moddate': '2025-08-24T16:13:42+00:00', 'source': 'pdfs\\\\DA1.pdf', 'total_pages': 123, 'page': 54, 'page_label': '55'}, page_content='2-17\\nCopyright ©2022 McGraw-Hill Education. All rights reserved. No reproduction or distribution without the prior \\nwritten consent of McGraw-Hill Education.\\nBUSINESS STATISTICS: COMMUNICATING WITH NUMBERS, 4e | Jaggia, Kelly\\n© McGraw Hill.\\n2-17\\n2.3 Methods to Visualize a Numeric Variable 7\\nA histogram is the counterpart to the vertical bar chart \\nused for a categorical variable.\\nGraphically depict a frequency distribution for a \\nnumeric variable.\\n• A series of rectangles.\\n• Mark off the along the horizontal axis.\\n• The height of each bar represents the frequency or relative \\nfrequency for each interval.\\n• No gaps between bars/intervals.'),\n",
       " Document(metadata={'producer': 'iLovePDF', 'creator': 'PyPDF', 'creationdate': '', 'moddate': '2025-08-24T16:13:42+00:00', 'source': 'pdfs\\\\DA1.pdf', 'total_pages': 123, 'page': 55, 'page_label': '56'}, page_content='2-18\\nCopyright ©2022 McGraw-Hill Education. All rights reserved. No reproduction or distribution without the prior \\nwritten consent of McGraw-Hill Education.\\nBUSINESS STATISTICS: COMMUNICATING WITH NUMBERS, 4e | Jaggia, Kelly\\n© McGraw Hill.\\n2-18\\n2.3 Methods to Visualize a Numeric Variable 8\\nA histogram allows us to quickly see where most of the observations tend to \\ncluster.\\nA histogram indicates the spread and shape of the variable.\\n• Symmetric: mirror image of itself on both sides of its center.\\n• Skewed: positive (elongated right tail) or negative (elongated left tail).\\nAccess the text alternative for slide images.'),\n",
       " Document(metadata={'producer': 'iLovePDF', 'creator': 'PyPDF', 'creationdate': '', 'moddate': '2025-08-24T16:13:42+00:00', 'source': 'pdfs\\\\DA1.pdf', 'total_pages': 123, 'page': 56, 'page_label': '57'}, page_content='2-19\\nCopyright ©2022 McGraw-Hill Education. All rights reserved. No reproduction or distribution without the prior \\nwritten consent of McGraw-Hill Education.\\nBUSINESS STATISTICS: COMMUNICATING WITH NUMBERS, 4e | Jaggia, Kelly\\n© McGraw Hill.\\n2-19\\n2.3 Methods to Visualize a Numeric Variable 9\\n• Example: house prices in Punta Gorda.\\nInterval (in $1,000s) Frequency\\n100 < x ≤ 200 9\\n200 < x ≤ 300 16\\n300 < x ≤ 400 8\\n400 < x ≤ 500 4\\n500 < x ≤ 600 2\\n600 < x ≤ 700 1\\nAccess the text alternative for slide images.'),\n",
       " Document(metadata={'producer': 'iLovePDF', 'creator': 'PyPDF', 'creationdate': '', 'moddate': '2025-08-24T16:13:42+00:00', 'source': 'pdfs\\\\DA1.pdf', 'total_pages': 123, 'page': 57, 'page_label': '58'}, page_content='2-20\\nCopyright ©2022 McGraw-Hill Education. All rights reserved. No reproduction or distribution without the prior \\nwritten consent of McGraw-Hill Education.\\nBUSINESS STATISTICS: COMMUNICATING WITH NUMBERS, 4e | Jaggia, Kelly\\n© McGraw Hill.\\n2-20\\n2.3 Methods to Visualize a Numeric Variable 10\\nA polygon provides another way of depicting a frequency \\ndistribution. \\n• Midpoint of each interval/class on the x-axis.\\n• Frequency or relative frequency on the y-axis.\\n• Connect neighboring points with a straight line.\\nA polygon gives a general idea about the shape of a \\ndistribution.'),\n",
       " Document(metadata={'producer': 'iLovePDF', 'creator': 'PyPDF', 'creationdate': '', 'moddate': '2025-08-24T16:13:42+00:00', 'source': 'pdfs\\\\DA1.pdf', 'total_pages': 123, 'page': 58, 'page_label': '59'}, page_content='2-21\\nCopyright ©2022 McGraw-Hill Education. All rights reserved. No reproduction or distribution without the prior \\nwritten consent of McGraw-Hill Education.\\nBUSINESS STATISTICS: COMMUNICATING WITH NUMBERS, 4e | Jaggia, Kelly\\n© McGraw Hill.\\n2-21\\n2.3 Methods to Visualize a Numeric Variable 11\\n• Example: house prices in Punta Gorda.\\nInterval X-coordinate (midpoint) Y-coordinate (relative frequency)\\n0 < x ≤ 100 50 0\\n100 < x ≤ 200 150 0.225\\n200 < x ≤ 300 250 0.400\\n300 < x ≤ 400 350 0.200\\n400 < x ≤ 500 450 0.100\\n500 < x ≤ 600 550 0.050\\n600 < x ≤ 700 650 0.25\\n700 < x ≤ 800 750 0\\nAccess the text alternative for slide images.'),\n",
       " Document(metadata={'producer': 'iLovePDF', 'creator': 'PyPDF', 'creationdate': '', 'moddate': '2025-08-24T16:13:42+00:00', 'source': 'pdfs\\\\DA1.pdf', 'total_pages': 123, 'page': 59, 'page_label': '60'}, page_content='2-22\\nCopyright ©2022 McGraw-Hill Education. All rights reserved. No reproduction or distribution without the prior \\nwritten consent of McGraw-Hill Education.\\nBUSINESS STATISTICS: COMMUNICATING WITH NUMBERS, 4e | Jaggia, Kelly\\n© McGraw Hill.\\n2-22\\n2.3 Methods to Visualize a Numeric Variable 12\\nAn ogive depicts a cumulative frequency or cumulative \\nrelative frequency.\\n• Upper limit of each interval/class on the x-axis.\\n• Cumulative frequency or cumulative relative frequency on the \\ny-axis.\\n• Connect neighboring points with a straight line.\\n• Close the ogive at the lower end by intersecting the x-axis at \\nthe lower limit of the first interval.'),\n",
       " Document(metadata={'producer': 'iLovePDF', 'creator': 'PyPDF', 'creationdate': '', 'moddate': '2025-08-24T16:13:42+00:00', 'source': 'pdfs\\\\DA1.pdf', 'total_pages': 123, 'page': 60, 'page_label': '61'}, page_content='2-23\\nCopyright ©2022 McGraw-Hill Education. All rights reserved. No reproduction or distribution without the prior \\nwritten consent of McGraw-Hill Education.\\nBUSINESS STATISTICS: COMMUNICATING WITH NUMBERS, 4e | Jaggia, Kelly\\n© McGraw Hill.\\n2-23\\n2.3 Methods to Visualize a Numeric Variable 13\\n• Example: house prices in Punta Gorda.\\nInterval X-coordinate (Upper limit) Y-coordinate (cumulative relative frequency)\\nLower limit of first class 100 0\\n100 < x ≤ 200 200 0.225\\n200 < x ≤ 300 300 0.625\\n300 < x ≤ 400 400 0.825\\n400 < x ≤ 500 500 0.925\\n500 < x ≤ 600 600 0.975\\n600 < x ≤ 700 700 1\\nAccess the text alternative for slide images.'),\n",
       " Document(metadata={'producer': 'iLovePDF', 'creator': 'PyPDF', 'creationdate': '', 'moddate': '2025-08-24T16:13:42+00:00', 'source': 'pdfs\\\\DA1.pdf', 'total_pages': 123, 'page': 61, 'page_label': '62'}, page_content='2-24\\nCopyright ©2022 McGraw-Hill Education. All rights reserved. No reproduction or distribution without the prior \\nwritten consent of McGraw-Hill Education.\\nBUSINESS STATISTICS: COMMUNICATING WITH NUMBERS, 4e | Jaggia, Kelly\\n© McGraw Hill.\\n2-24\\n2.4 More Data Visualization Methods 1\\nUse a scatterplot to examine the relationship between two numerical \\nvariables.\\n• Determine if two numerical variables are related in some systematic way.\\n• Each point represents a pair of observations of the two variables.\\n• Refer to one variable as x (x-axis) and the other as y (y-axis).\\nOnce plotted, the graph may reveal one of the below.\\n• A linear relationship.\\n• A nonlinear relationship.\\n• No relationship.\\nAccess the text alternative for slide images.'),\n",
       " Document(metadata={'producer': 'iLovePDF', 'creator': 'PyPDF', 'creationdate': '', 'moddate': '2025-08-24T16:13:42+00:00', 'source': 'pdfs\\\\DA1.pdf', 'total_pages': 123, 'page': 62, 'page_label': '63'}, page_content='2-25\\nCopyright ©2022 McGraw-Hill Education. All rights reserved. No reproduction or distribution without the prior \\nwritten consent of McGraw-Hill Education.\\nBUSINESS STATISTICS: COMMUNICATING WITH NUMBERS, 4e | Jaggia, Kelly\\n© McGraw Hill.\\n2-25\\n2.4 More Data Visualization Methods 2\\n• Example: house prices and square footage in Punta Gorda.\\nAccess the text alternative for slide images.'),\n",
       " Document(metadata={'producer': 'iLovePDF', 'creator': 'PyPDF', 'creationdate': '', 'moddate': '2025-08-24T16:13:42+00:00', 'source': 'pdfs\\\\DA1.pdf', 'total_pages': 123, 'page': 63, 'page_label': '64'}, page_content='2-26\\nCopyright ©2022 McGraw-Hill Education. All rights reserved. No reproduction or distribution without the prior \\nwritten consent of McGraw-Hill Education.\\nBUSINESS STATISTICS: COMMUNICATING WITH NUMBERS, 4e | Jaggia, Kelly\\n© McGraw Hill.\\n2-26\\n2.4 More Data Visualization Methods 3\\nA scatterplot with a categorical variable modifies a basic scatterplot.\\n• Incorporate a categorical variable in addition to the two numeric variables.\\n• Encode the categorical variable with color.\\n• Giving each point a distinct hue makes it easy to show its category.\\nThis allows you to determine if the relationship between x and y differs across \\nthe values of the categorical variable.\\nExample: house prices and square footage by type in Punta Gorda.\\nAccess the text alternative for slide images.'),\n",
       " Document(metadata={'producer': 'iLovePDF', 'creator': 'PyPDF', 'creationdate': '', 'moddate': '2025-08-24T16:13:42+00:00', 'source': 'pdfs\\\\DA1.pdf', 'total_pages': 123, 'page': 64, 'page_label': '65'}, page_content='2-27\\nCopyright ©2022 McGraw-Hill Education. All rights reserved. No reproduction or distribution without the prior \\nwritten consent of McGraw-Hill Education.\\nBUSINESS STATISTICS: COMMUNICATING WITH NUMBERS, 4e | Jaggia, Kelly\\n© McGraw Hill.\\n2-27\\n2.4 More Data Visualization Methods 4\\n• A line chart displays a numerical variable as a series of \\nconsecutive observations connected by a line. \\n• A line chart is especially useful for tracking changes or \\ntrends over time. \\n• It is also easy for us to identify any major changes that \\nhappened in the past on a line chart. \\n• When multiple lines are plotted in the same chart, we can \\ncompare these observations on one or more dimensions.'),\n",
       " Document(metadata={'producer': 'iLovePDF', 'creator': 'PyPDF', 'creationdate': '', 'moddate': '2025-08-24T16:13:42+00:00', 'source': 'pdfs\\\\DA1.pdf', 'total_pages': 123, 'page': 65, 'page_label': '66'}, page_content='2-28\\nCopyright ©2022 McGraw-Hill Education. All rights reserved. No reproduction or distribution without the prior \\nwritten consent of McGraw-Hill Education.\\nBUSINESS STATISTICS: COMMUNICATING WITH NUMBERS, 4e | Jaggia, Kelly\\n© McGraw Hill.\\n2-28\\n2.4 More Data Visualization Methods 5\\n• Example: monthly stock prices for Apple and Merck.\\nAccess the text alternative for slide images.'),\n",
       " Document(metadata={'producer': 'iLovePDF', 'creator': 'PyPDF', 'creationdate': '', 'moddate': '2025-08-24T16:13:42+00:00', 'source': 'pdfs\\\\DA1.pdf', 'total_pages': 123, 'page': 66, 'page_label': '67'}, page_content='2-29\\nCopyright ©2022 McGraw-Hill Education. All rights reserved. No reproduction or distribution without the prior \\nwritten consent of McGraw-Hill Education.\\nBUSINESS STATISTICS: COMMUNICATING WITH NUMBERS, 4e | Jaggia, Kelly\\n© McGraw Hill.\\n2-29\\n2.5 A Stem-And-Leaf Diagram 1\\nA stem-and-leaf diagram provides another visual method for \\ndisplaying a numerical variable.\\nIt gives an overall picture of where the observations are \\ncentered and how they are dispersed from the center.\\nSeparate each observation of a variable into two parts.\\n• Stem: left-most digits.\\n• Leaf: the last digit.'),\n",
       " Document(metadata={'producer': 'iLovePDF', 'creator': 'PyPDF', 'creationdate': '', 'moddate': '2025-08-24T16:13:42+00:00', 'source': 'pdfs\\\\DA1.pdf', 'total_pages': 123, 'page': 67, 'page_label': '68'}, page_content='2-30\\nCopyright ©2022 McGraw-Hill Education. All rights reserved. No reproduction or distribution without the prior \\nwritten consent of McGraw-Hill Education.\\nBUSINESS STATISTICS: COMMUNICATING WITH NUMBERS, 4e | Jaggia, Kelly\\n© McGraw Hill.\\n2-30\\n2.5 A Stem-And-Leaf Diagram 2\\n• Example: age of the wealthiest people in the world.\\nAccess the text alternative for slide images.'),\n",
       " Document(metadata={'producer': 'iLovePDF', 'creator': 'PyPDF', 'creationdate': '', 'moddate': '2025-08-24T16:13:42+00:00', 'source': 'pdfs\\\\DA1.pdf', 'total_pages': 123, 'page': 68, 'page_label': '69'}, page_content='2-31\\nEnd of Main Content\\nCopyright 2022 © McGraw Hill LLC. All rights reserved. No reproduction or distribution without the prior written \\nconsent of McGraw Hill LLC.'),\n",
       " Document(metadata={'producer': 'iLovePDF', 'creator': 'PyPDF', 'creationdate': '', 'moddate': '2025-08-24T16:13:42+00:00', 'source': 'pdfs\\\\DA1.pdf', 'total_pages': 123, 'page': 69, 'page_label': '70'}, page_content='3-1\\nCopyright ©2022 McGraw Hill. All rights reserved. No reproduction or distribution without the prior written \\nconsent of McGraw Hill.8/24/2025\\n3\\nNumerical Descriptive \\nMeasures\\nBusiness Statistics: \\nCommunicating with Numbers, 4e\\nBy Sanjiv Jaggia and Alison Kelly'),\n",
       " Document(metadata={'producer': 'iLovePDF', 'creator': 'PyPDF', 'creationdate': '', 'moddate': '2025-08-24T16:13:42+00:00', 'source': 'pdfs\\\\DA1.pdf', 'total_pages': 123, 'page': 70, 'page_label': '71'}, page_content='3-2\\nCopyright ©2022 McGraw Hill. All rights reserved. No reproduction or distribution without the prior written \\nconsent of McGraw Hill.\\nBUSINESS STATISTICS: COMMUNICATING WITH NUMBERS, 4e | Jaggia, Kelly\\nCopyright ©2022 McGraw Hill. All rights reserved. No reproduction or distribution without the prior written consent of McGraw Hill.\\n3-2\\nChapter 3 Learning Objectives (LOs)\\nLO 3.1   Calculate and interpret measures of central location.\\nLO 3.2   Interpret a percentile and a boxplot.\\nLO 3.3   Calculate and interpret a geometric mean return and\\nan average growth rate.\\nLO 3.4   Calculate and interpret measures of dispersion.\\nLO 3.5   Explain mean-variance analysis and the Sharpe ratio.\\nLO 3.6   Apply Chebyshev’s theorem, the empirical rule, and\\nz-scores.\\nLO 3.7   Calculate and interpret measures of association.'),\n",
       " Document(metadata={'producer': 'iLovePDF', 'creator': 'PyPDF', 'creationdate': '', 'moddate': '2025-08-24T16:13:42+00:00', 'source': 'pdfs\\\\DA1.pdf', 'total_pages': 123, 'page': 71, 'page_label': '72'}, page_content='3-3\\nCopyright ©2022 McGraw Hill. All rights reserved. No reproduction or distribution without the prior written \\nconsent of McGraw Hill.\\nBUSINESS STATISTICS: COMMUNICATING WITH NUMBERS, 4e | Jaggia, Kelly\\nCopyright ©2022 McGraw Hill. All rights reserved. No reproduction or distribution without the prior written consent of McGraw Hill.\\n3-3\\nIntroductory Case: Investment Decision \\n• Dorothy works as a financial advisor at a large investment firm. \\n• She meets with an inexperienced investor who has some questions \\nregarding two approaches to mutual fund investing.\\n• The investor shows Dorothy the annual return data for Fidelity’s Growth \\nIndex mutual fund (Growth) and Fidelity’s Value Index mutual fund \\n(Value).\\n• Dorothy will use the sample information for the following tasks.\\n1. Calculate and interpret the typical return for these two mutual funds.\\n2. Calculate and interpret the investment risk for these two mutual funds.\\n3. Determine which mutual fund provides the greater return relative to risk.'),\n",
       " Document(metadata={'producer': 'iLovePDF', 'creator': 'PyPDF', 'creationdate': '', 'moddate': '2025-08-24T16:13:42+00:00', 'source': 'pdfs\\\\DA1.pdf', 'total_pages': 123, 'page': 72, 'page_label': '73'}, page_content='3-4\\nCopyright ©2022 McGraw Hill. All rights reserved. No reproduction or distribution without the prior written \\nconsent of McGraw Hill.\\nBUSINESS STATISTICS: COMMUNICATING WITH NUMBERS, 4e | Jaggia, Kelly\\nCopyright ©2022 McGraw Hill. All rights reserved. No reproduction or distribution without the prior written consent of McGraw Hill.\\n3-4\\n3.1 Measures of Central Location (1)\\n• The term central location refers to how numerical \\ndata tend to cluster around some middle or central \\nvalue. \\n• Measures of central location attempt to find a \\ntypical or central value that describes the data.\\n• The arithmetic mean is the primary measure of \\ncentral location. \\n– Referred to as the mean or the average.\\n– Add up all the observations and divide by the number of \\nobservations.'),\n",
       " Document(metadata={'producer': 'iLovePDF', 'creator': 'PyPDF', 'creationdate': '', 'moddate': '2025-08-24T16:13:42+00:00', 'source': 'pdfs\\\\DA1.pdf', 'total_pages': 123, 'page': 73, 'page_label': '74'}, page_content='3-5\\nCopyright ©2022 McGraw Hill. All rights reserved. No reproduction or distribution without the prior written \\nconsent of McGraw Hill.\\nBUSINESS STATISTICS: COMMUNICATING WITH NUMBERS, 4e | Jaggia, Kelly\\nCopyright ©2022 McGraw Hill. All rights reserved. No reproduction or distribution without the prior written consent of McGraw Hill.\\n3-5\\n3.1 Measures of Central Location (2)\\n• The only thing that differs between a population mean and a \\nsample mean is the notation.\\n• The population mean is denoted as 𝜇.\\n– 𝑁 observations in the population: 𝑥1,𝑥2,…,𝑥𝑁\\n– 𝜇 =\\nσ𝑥𝑖\\n𝑁\\n– 𝜇 is a parameter (describes a population)\\n• The sample mean is dented as ҧ𝑥.\\n– n observations in the sample: 𝑥1,𝑥2,…,𝑥𝑛\\n– ҧ𝑥 =\\nσ𝑥𝑖\\n𝑛\\n– ҧ𝑥 is a statistic (describes a sample)\\n– Can be misleading in the presence of extremely small or large \\nobservations, or outliers'),\n",
       " Document(metadata={'producer': 'iLovePDF', 'creator': 'PyPDF', 'creationdate': '', 'moddate': '2025-08-24T16:13:42+00:00', 'source': 'pdfs\\\\DA1.pdf', 'total_pages': 123, 'page': 74, 'page_label': '75'}, page_content='3-6\\nCopyright ©2022 McGraw Hill. All rights reserved. No reproduction or distribution without the prior written \\nconsent of McGraw Hill.\\nBUSINESS STATISTICS: COMMUNICATING WITH NUMBERS, 4e | Jaggia, Kelly\\nCopyright ©2022 McGraw Hill. All rights reserved. No reproduction or distribution without the prior written consent of McGraw Hill.\\n3-6\\n3.1 Measures of Central Location (3)\\n• Example: the mean return for Growth and the mean \\nreturn for Value\\n• Growth: \\n−5.50 +39.91+⋯+38.42\\n36 = 15.775\\n• Value: \\n−8.59 +22.10+⋯+31.62\\n36 = 12.005\\n• Over the 36-year period, the mean return for \\nGrowth was greater than the mean return for Value.\\n• As we will see, we would be ill-advised to invest in \\na mutual fund solely on the basis of its average \\nreturn.'),\n",
       " Document(metadata={'producer': 'iLovePDF', 'creator': 'PyPDF', 'creationdate': '', 'moddate': '2025-08-24T16:13:42+00:00', 'source': 'pdfs\\\\DA1.pdf', 'total_pages': 123, 'page': 75, 'page_label': '76'}, page_content='3-7\\nCopyright ©2022 McGraw Hill. All rights reserved. No reproduction or distribution without the prior written \\nconsent of McGraw Hill.\\nBUSINESS STATISTICS: COMMUNICATING WITH NUMBERS, 4e | Jaggia, Kelly\\nCopyright ©2022 McGraw Hill. All rights reserved. No reproduction or distribution without the prior written consent of McGraw Hill.\\n3-7\\n3.1 Measures of Central Location (4)\\n• Example: salaries of employees at Acetech\\n• Since these are all employees, calculate the population \\nmean.\\n• This value does not reflect the typical salary; 6 of the 8 \\nemployees earn less than the mean.'),\n",
       " Document(metadata={'producer': 'iLovePDF', 'creator': 'PyPDF', 'creationdate': '', 'moddate': '2025-08-24T16:13:42+00:00', 'source': 'pdfs\\\\DA1.pdf', 'total_pages': 123, 'page': 76, 'page_label': '77'}, page_content='3-8\\nCopyright ©2022 McGraw Hill. All rights reserved. No reproduction or distribution without the prior written \\nconsent of McGraw Hill.\\nBUSINESS STATISTICS: COMMUNICATING WITH NUMBERS, 4e | Jaggia, Kelly\\nCopyright ©2022 McGraw Hill. All rights reserved. No reproduction or distribution without the prior written consent of McGraw Hill.\\n3-8\\n3.1 Measures of Central Location (5)\\n• Since the mean can be affected by outliers, we often \\ncalculate the median.\\n• The median is the middle value of a variable.\\n– It divides the data in half\\n– An equal number of observations lie above and below the \\nmedian\\n– The middle value if n (or N) is odd\\n– The average of the two middle values if n (or N) is even\\n• The median is especially useful when outliers are \\npresent.\\n• The mean and median are both typically published.\\n• If they differ, then the variable likely contains outliers.'),\n",
       " Document(metadata={'producer': 'iLovePDF', 'creator': 'PyPDF', 'creationdate': '', 'moddate': '2025-08-24T16:13:42+00:00', 'source': 'pdfs\\\\DA1.pdf', 'total_pages': 123, 'page': 77, 'page_label': '78'}, page_content='3-9\\nCopyright ©2022 McGraw Hill. All rights reserved. No reproduction or distribution without the prior written \\nconsent of McGraw Hill.\\nBUSINESS STATISTICS: COMMUNICATING WITH NUMBERS, 4e | Jaggia, Kelly\\nCopyright ©2022 McGraw Hill. All rights reserved. No reproduction or distribution without the prior written consent of McGraw Hill.\\n3-9\\n3.1 Measures of Central Location (6)\\n• Example: the median salary of Acetech employees\\n• Arrange the data in ascending order\\n• Since there are 8 salaries, the median is the average of \\nthe observations in the 4th and 5th positions.\\n• The median is \\n90,000+100,000\\n2 = $95,000.\\n• Four salaries are less than $95,000 and four salaries are \\ngreater than $95,000.\\n• Compared to the mean of $147,500, the median better \\nreflects the typical salary.'),\n",
       " Document(metadata={'producer': 'iLovePDF', 'creator': 'PyPDF', 'creationdate': '', 'moddate': '2025-08-24T16:13:42+00:00', 'source': 'pdfs\\\\DA1.pdf', 'total_pages': 123, 'page': 78, 'page_label': '79'}, page_content='3-10\\nCopyright ©2022 McGraw Hill. All rights reserved. No reproduction or distribution without the prior written \\nconsent of McGraw Hill.\\nBUSINESS STATISTICS: COMMUNICATING WITH NUMBERS, 4e | Jaggia, Kelly\\nCopyright ©2022 McGraw Hill. All rights reserved. No reproduction or distribution without the prior written consent of McGraw Hill.\\n3-10\\n3.1 Measures of Central Location (7)\\n• The mode of a variable is the observation that occurs most \\nfrequently.\\n• There can be one or more modes, or even no mode.\\n– One mode: unimodal\\n– Two modes: bimodal\\n• The mode is a less useful measure of centrality when there are \\nmore than three modes.\\n• Example: modal salary for employees at Acetech\\n– $40,000 is earned by two employees, every other salary occurs just once\\n– $40,000 is the mode\\n– Most employees earn considerably more than this\\n• Just because an observation occurs with the most frequency \\ndoes not guarantee that it best reflects the center of the variable.'),\n",
       " Document(metadata={'producer': 'iLovePDF', 'creator': 'PyPDF', 'creationdate': '', 'moddate': '2025-08-24T16:13:42+00:00', 'source': 'pdfs\\\\DA1.pdf', 'total_pages': 123, 'page': 79, 'page_label': '80'}, page_content='3-11\\nCopyright ©2022 McGraw Hill. All rights reserved. No reproduction or distribution without the prior written \\nconsent of McGraw Hill.\\nBUSINESS STATISTICS: COMMUNICATING WITH NUMBERS, 4e | Jaggia, Kelly\\nCopyright ©2022 McGraw Hill. All rights reserved. No reproduction or distribution without the prior written consent of McGraw Hill.\\n3-11\\n3.1 Measures of Central Location (8)\\n• To summarize a categorical variable, the \\nmode is the only meaningful measure of \\ncentral location.\\n• Example: sizes of women’s sweatshirts\\n– The sizes are S, M, or L.\\n– S and M appear 2 times each, L appears 5 times.\\n– The modal size is L.'),\n",
       " Document(metadata={'producer': 'iLovePDF', 'creator': 'PyPDF', 'creationdate': '', 'moddate': '2025-08-24T16:13:42+00:00', 'source': 'pdfs\\\\DA1.pdf', 'total_pages': 123, 'page': 80, 'page_label': '81'}, page_content='3-12\\nCopyright ©2022 McGraw Hill. All rights reserved. No reproduction or distribution without the prior written \\nconsent of McGraw Hill.\\nBUSINESS STATISTICS: COMMUNICATING WITH NUMBERS, 4e | Jaggia, Kelly\\nCopyright ©2022 McGraw Hill. All rights reserved. No reproduction or distribution without the prior written consent of McGraw Hill.\\n3-12\\n3.1 Measures of Central Location (9)'),\n",
       " Document(metadata={'producer': 'iLovePDF', 'creator': 'PyPDF', 'creationdate': '', 'moddate': '2025-08-24T16:13:42+00:00', 'source': 'pdfs\\\\DA1.pdf', 'total_pages': 123, 'page': 81, 'page_label': '82'}, page_content='3-13\\nCopyright ©2022 McGraw Hill. All rights reserved. No reproduction or distribution without the prior written \\nconsent of McGraw Hill.\\nBUSINESS STATISTICS: COMMUNICATING WITH NUMBERS, 4e | Jaggia, Kelly\\nCopyright ©2022 McGraw Hill. All rights reserved. No reproduction or distribution without the prior written consent of McGraw Hill.\\n3-13\\n3.1 Measures of Central Location (10)\\n• Example: measures of centrality for Growth and Value\\n• With Excel'),\n",
       " Document(metadata={'producer': 'iLovePDF', 'creator': 'PyPDF', 'creationdate': '', 'moddate': '2025-08-24T16:13:42+00:00', 'source': 'pdfs\\\\DA1.pdf', 'total_pages': 123, 'page': 82, 'page_label': '83'}, page_content='3-14\\nCopyright ©2022 McGraw Hill. All rights reserved. No reproduction or distribution without the prior written \\nconsent of McGraw Hill.\\nBUSINESS STATISTICS: COMMUNICATING WITH NUMBERS, 4e | Jaggia, Kelly\\nCopyright ©2022 McGraw Hill. All rights reserved. No reproduction or distribution without the prior written consent of McGraw Hill.\\n3-14\\n3.1 Measures of Central Location (11)\\n• Example: measures of centrality for Growth and Value\\n• With R'),\n",
       " Document(metadata={'producer': 'iLovePDF', 'creator': 'PyPDF', 'creationdate': '', 'moddate': '2025-08-24T16:13:42+00:00', 'source': 'pdfs\\\\DA1.pdf', 'total_pages': 123, 'page': 83, 'page_label': '84'}, page_content='3-15\\nCopyright ©2022 McGraw Hill. All rights reserved. No reproduction or distribution without the prior written \\nconsent of McGraw Hill.\\nBUSINESS STATISTICS: COMMUNICATING WITH NUMBERS, 4e | Jaggia, Kelly\\nCopyright ©2022 McGraw Hill. All rights reserved. No reproduction or distribution without the prior written consent of McGraw Hill.\\n3-15\\n3.1 Measures of Central Location (12)\\n• It is sometimes useful to subset the observations, and \\ncompute means for each subset.\\n• Example: mean spending by sex\\n– With Excel\\n– With R'),\n",
       " Document(metadata={'producer': 'iLovePDF', 'creator': 'PyPDF', 'creationdate': '', 'moddate': '2025-08-24T16:13:42+00:00', 'source': 'pdfs\\\\DA1.pdf', 'total_pages': 123, 'page': 84, 'page_label': '85'}, page_content='3-16\\nCopyright ©2022 McGraw Hill. All rights reserved. No reproduction or distribution without the prior written \\nconsent of McGraw Hill.\\nBUSINESS STATISTICS: COMMUNICATING WITH NUMBERS, 4e | Jaggia, Kelly\\nCopyright ©2022 McGraw Hill. All rights reserved. No reproduction or distribution without the prior written consent of McGraw Hill.\\n3-16\\n3.1 Measures of Central Location (13)\\n• So far each observation of a variable contributed equally to \\nthe mean.\\n• The weighted mean is relevant when some observations \\ncontribute more than others.\\n• Let 𝑤1,𝑤2,⋯,𝑤𝑛 denote the weight of sample observations \\n𝑥1,𝑥2,⋯,𝑥𝑛 such that 𝑤1 +𝑤2 +⋯+𝑤𝑛 = 1.\\n• The weighted mean is computed as ҧ𝑥 = σ𝑤𝑖𝑥𝑖.\\n• For a frequency distribution, we substitute the relative \\nfrequencies for 𝑤𝑖 and the midpoint of each interval for 𝑥𝑖.\\n• The weighted mean for the population is computed similarly.'),\n",
       " Document(metadata={'producer': 'iLovePDF', 'creator': 'PyPDF', 'creationdate': '', 'moddate': '2025-08-24T16:13:42+00:00', 'source': 'pdfs\\\\DA1.pdf', 'total_pages': 123, 'page': 85, 'page_label': '86'}, page_content='3-17\\nCopyright ©2022 McGraw Hill. All rights reserved. No reproduction or distribution without the prior written \\nconsent of McGraw Hill.\\nBUSINESS STATISTICS: COMMUNICATING WITH NUMBERS, 4e | Jaggia, Kelly\\nCopyright ©2022 McGraw Hill. All rights reserved. No reproduction or distribution without the prior written consent of McGraw Hill.\\n3-17\\n3.1 Measures of Central Location (14)\\n• Example: a student scores 60 on Exam 1, 70 on \\nExam 2, and 80 on Exam 3. What is the student’s \\naverage score for the course if Exams 1, 2, and 3 \\nare worth 25%, 25%, and 50% of the grade, \\nrespectively?\\n• Let 𝑤1 = 0.25, 𝑤2 = 0.25, 𝑤3 = 0.50\\n• The average score is the weighted mean.\\nҧ𝑥 = 0.25 60 +0.25 70 +0.50 80 = 75.50\\n• Note the unweighted mean is only 70.'),\n",
       " Document(metadata={'producer': 'iLovePDF', 'creator': 'PyPDF', 'creationdate': '', 'moddate': '2025-08-24T16:13:42+00:00', 'source': 'pdfs\\\\DA1.pdf', 'total_pages': 123, 'page': 86, 'page_label': '87'}, page_content='3-18\\nCopyright ©2022 McGraw Hill. All rights reserved. No reproduction or distribution without the prior written \\nconsent of McGraw Hill.\\nBUSINESS STATISTICS: COMMUNICATING WITH NUMBERS, 4e | Jaggia, Kelly\\nCopyright ©2022 McGraw Hill. All rights reserved. No reproduction or distribution without the prior written consent of McGraw Hill.\\n3-18\\n3.1 Measures of Central Location (15)\\n• A distribution is symmetric if one side of the histogram is a \\nmirror image of the other.\\n• For a symmetric symmetric and unimodal distribution, the \\nmean, median, and mode are equal.\\n• Positively skewed: mean is usually greater than the median\\n• Negatively skewed: the mean is usually less than the median\\n• The skewness coefficient is a measure of skewness.\\n– Zero: observations are evenly distributed on both sides of the mean \\n(symmetric)\\n– Positive: extreme observations in the right tail, pulling the mean up \\nrelative to the median \\n– Negative: extreme observations in the left tail, pulling the mean down \\nrelative the median'),\n",
       " Document(metadata={'producer': 'iLovePDF', 'creator': 'PyPDF', 'creationdate': '', 'moddate': '2025-08-24T16:13:42+00:00', 'source': 'pdfs\\\\DA1.pdf', 'total_pages': 123, 'page': 87, 'page_label': '88'}, page_content='3-19\\nCopyright ©2022 McGraw Hill. All rights reserved. No reproduction or distribution without the prior written \\nconsent of McGraw Hill.\\nBUSINESS STATISTICS: COMMUNICATING WITH NUMBERS, 4e | Jaggia, Kelly\\nCopyright ©2022 McGraw Hill. All rights reserved. No reproduction or distribution without the prior written consent of McGraw Hill.\\n3-19\\n3.2 Percentiles and Boxplots (1)\\n• A percentile divides the data into two parts.\\n– Approximately p percent of the observations are less than \\nthe pth percentile\\n– Approximately 1-p percent of the observations are greater \\nthan the pth percentile\\n• A percentile is a measure of location.\\n• It is also used as a measure of relative position \\nbecause it is easy to interpret.'),\n",
       " Document(metadata={'producer': 'iLovePDF', 'creator': 'PyPDF', 'creationdate': '', 'moddate': '2025-08-24T16:13:42+00:00', 'source': 'pdfs\\\\DA1.pdf', 'total_pages': 123, 'page': 88, 'page_label': '89'}, page_content='3-20\\nCopyright ©2022 McGraw Hill. All rights reserved. No reproduction or distribution without the prior written \\nconsent of McGraw Hill.\\nBUSINESS STATISTICS: COMMUNICATING WITH NUMBERS, 4e | Jaggia, Kelly\\nCopyright ©2022 McGraw Hill. All rights reserved. No reproduction or distribution without the prior written consent of McGraw Hill.\\n3-20\\n3.2 Percentiles and Boxplots (2)\\n• When we calculate the 25th, 50th, and 75th percentiles for a \\nvariable, we have divided it into four equal parts or quarter.\\n– 25th percentile: Q1\\n– 50th percentile: Q2\\n– 75th percentile: Q3\\n• It only makes sense to calculate percentile for larger data \\nsets.\\n• Rely on Excel and R to compute these.\\n– Different algorithms so the values might be slightly different\\n– With larger sample size, the differences tend to be negligible\\n• A five-number summary is commonly reported: the minimum, \\nquartiles, and the maximum.\\n• Note IQR = Q3 – Q1: range of the middle 50% of values'),\n",
       " Document(metadata={'producer': 'iLovePDF', 'creator': 'PyPDF', 'creationdate': '', 'moddate': '2025-08-24T16:13:42+00:00', 'source': 'pdfs\\\\DA1.pdf', 'total_pages': 123, 'page': 89, 'page_label': '90'}, page_content='3-21\\nCopyright ©2022 McGraw Hill. All rights reserved. No reproduction or distribution without the prior written \\nconsent of McGraw Hill.\\nBUSINESS STATISTICS: COMMUNICATING WITH NUMBERS, 4e | Jaggia, Kelly\\nCopyright ©2022 McGraw Hill. All rights reserved. No reproduction or distribution without the prior written consent of McGraw Hill.\\n3-21\\n3.2 Percentiles and Boxplots (3)\\n• Example: five-number summary for the Growth and Value \\nvariables.\\n• With Excel\\n• With R'),\n",
       " Document(metadata={'producer': 'iLovePDF', 'creator': 'PyPDF', 'creationdate': '', 'moddate': '2025-08-24T16:13:42+00:00', 'source': 'pdfs\\\\DA1.pdf', 'total_pages': 123, 'page': 90, 'page_label': '91'}, page_content='3-22\\nCopyright ©2022 McGraw Hill. All rights reserved. No reproduction or distribution without the prior written \\nconsent of McGraw Hill.\\nBUSINESS STATISTICS: COMMUNICATING WITH NUMBERS, 4e | Jaggia, Kelly\\nCopyright ©2022 McGraw Hill. All rights reserved. No reproduction or distribution without the prior written consent of McGraw Hill.\\n3-22\\n3.2 Percentiles and Boxplots (4)\\n• A boxplot, also referred to as a box-and-whisker plot, is a way to graphically \\ndisplay a five-number summary.\\na. Plot the five-number summary values in ascending order on the horizontal \\naxis.\\nb. Draw a box encompassing the first and third quartiles.\\nc. Draw a dashed vertical line in the box at the median.\\nd. Draw a line (“whisker”) that extends from Q1 to the minimum value that is not \\nfurther from 1.5*IQR from Q1 (similarly for the other side).\\ne. Use an asterisk (or another symbol) to indicate observations that are farther \\nthan 1.5*IQR from the box (outliers).'),\n",
       " Document(metadata={'producer': 'iLovePDF', 'creator': 'PyPDF', 'creationdate': '', 'moddate': '2025-08-24T16:13:42+00:00', 'source': 'pdfs\\\\DA1.pdf', 'total_pages': 123, 'page': 91, 'page_label': '92'}, page_content='3-23\\nCopyright ©2022 McGraw Hill. All rights reserved. No reproduction or distribution without the prior written \\nconsent of McGraw Hill.\\nBUSINESS STATISTICS: COMMUNICATING WITH NUMBERS, 4e | Jaggia, Kelly\\nCopyright ©2022 McGraw Hill. All rights reserved. No reproduction or distribution without the prior written consent of McGraw Hill.\\n3-23\\n3.2 Percentiles and Boxplots (5)\\n• A boxplot is used to informally gauge the shape of the \\ndistribution.\\n– Symmetry: median is in the center of the box, and the left and right whiskers \\nare equally distant from their respective quartiles\\n– Positively skewed: median is left of center and the right whisker is longer than \\nthe left whisker\\n– Negatively skewed: median is right of center and the left whisker is longer \\nthan the right whisker\\n• If outliers exist, we need to include them when comparing the length of \\nthe whiskers.\\n• Excel does not provide a simple and straightforward way to construct a \\nboxplot.\\n• R and other statistical packages offer this option.'),\n",
       " Document(metadata={'producer': 'iLovePDF', 'creator': 'PyPDF', 'creationdate': '', 'moddate': '2025-08-24T16:13:42+00:00', 'source': 'pdfs\\\\DA1.pdf', 'total_pages': 123, 'page': 92, 'page_label': '93'}, page_content='3-24\\nCopyright ©2022 McGraw Hill. All rights reserved. No reproduction or distribution without the prior written \\nconsent of McGraw Hill.\\nBUSINESS STATISTICS: COMMUNICATING WITH NUMBERS, 4e | Jaggia, Kelly\\nCopyright ©2022 McGraw Hill. All rights reserved. No reproduction or distribution without the prior written consent of McGraw Hill.\\n3-24\\n3.2 Percentiles and Boxplots (6)\\n• Example: using the five-number summaries for Growth and Value\\n• Find the IQR for Growth. \\n– Determine whether any outliers exist\\n– Repeat for Value\\n• Is the distribution for Growth symmetric? \\n– If not, comment on its skewness\\n– Repeat for value\\n• Use R to construct boxplots for Growth and Value. \\n• Are the results consistent with the previous parts?'),\n",
       " Document(metadata={'producer': 'iLovePDF', 'creator': 'PyPDF', 'creationdate': '', 'moddate': '2025-08-24T16:13:42+00:00', 'source': 'pdfs\\\\DA1.pdf', 'total_pages': 123, 'page': 93, 'page_label': '94'}, page_content='3-25\\nCopyright ©2022 McGraw Hill. All rights reserved. No reproduction or distribution without the prior written \\nconsent of McGraw Hill.\\nBUSINESS STATISTICS: COMMUNICATING WITH NUMBERS, 4e | Jaggia, Kelly\\nCopyright ©2022 McGraw Hill. All rights reserved. No reproduction or distribution without the prior written consent of McGraw Hill.\\n3-25\\n3.2 Percentiles and Boxplots (7)\\n• Example continued\\n• Growth\\n– IQR = Q3 − Q1 = 36.94 − 2.86 = 34.11\\n– Limit = 1.5*IQR = 1.5*34.11 = 51.17\\n– Q1− Min = 2.86 − (−40.90) = 43.76 (left whisker)\\n– Max − Q3 = 79.48 − 36.94 = 42.51 (right whisker)\\n– Both are less than 51.17, no outliers\\n• Value\\n– IQR = Q3 − Q1 = 22.44 − 1.70 = 20.74\\n– Limit = 1.5*IQR = 1.5*20.74 = 31.11\\n– Q1- Min = 1.70 − (−46.52) = 48.22 (left whisker)\\n– Max − Q3 = 44.08 − 22.44 = 21.64 (right whisker)\\n– Left whisker limit exceeds the limit, there is an outlier(s) on the left \\nside'),\n",
       " Document(metadata={'producer': 'iLovePDF', 'creator': 'PyPDF', 'creationdate': '', 'moddate': '2025-08-24T16:13:42+00:00', 'source': 'pdfs\\\\DA1.pdf', 'total_pages': 123, 'page': 94, 'page_label': '95'}, page_content='3-26\\nCopyright ©2022 McGraw Hill. All rights reserved. No reproduction or distribution without the prior written \\nconsent of McGraw Hill.\\nBUSINESS STATISTICS: COMMUNICATING WITH NUMBERS, 4e | Jaggia, Kelly\\nCopyright ©2022 McGraw Hill. All rights reserved. No reproduction or distribution without the prior written consent of McGraw Hill.\\n3-26\\n3.2 Percentiles and Boxplots (8)\\n• Example continued\\n• Growth\\n– Median − Q1 = 15.25 − 2.86 = 12.39\\n– Q3 − Median = 36.97 − 15.25 = 21.72\\n– Since 12.39 < 21.72, the median is left of center\\n– Left whisker is longer than the right whisker\\n– Skewness coefficient is negative\\n– The distribution is negatively skewed\\n• Value (similar calculations)\\n– Median falls right of center\\n– Left whisker is longer than the right whisker\\n– Skewness coefficient is negative\\n– The distribution is negatively skewed'),\n",
       " Document(metadata={'producer': 'iLovePDF', 'creator': 'PyPDF', 'creationdate': '', 'moddate': '2025-08-24T16:13:42+00:00', 'source': 'pdfs\\\\DA1.pdf', 'total_pages': 123, 'page': 95, 'page_label': '96'}, page_content='3-27\\nCopyright ©2022 McGraw Hill. All rights reserved. No reproduction or distribution without the prior written \\nconsent of McGraw Hill.\\nBUSINESS STATISTICS: COMMUNICATING WITH NUMBERS, 4e | Jaggia, Kelly\\nCopyright ©2022 McGraw Hill. All rights reserved. No reproduction or distribution without the prior written consent of McGraw Hill.\\n3-27\\n3.2 Percentiles and Boxplots (9)\\n• Example continued\\n• Boxplot with R'),\n",
       " Document(metadata={'producer': 'iLovePDF', 'creator': 'PyPDF', 'creationdate': '', 'moddate': '2025-08-24T16:13:42+00:00', 'source': 'pdfs\\\\DA1.pdf', 'total_pages': 123, 'page': 96, 'page_label': '97'}, page_content='3-28\\nCopyright ©2022 McGraw Hill. All rights reserved. No reproduction or distribution without the prior written \\nconsent of McGraw Hill.\\nBUSINESS STATISTICS: COMMUNICATING WITH NUMBERS, 4e | Jaggia, Kelly\\nCopyright ©2022 McGraw Hill. All rights reserved. No reproduction or distribution without the prior written consent of McGraw Hill.\\n3-28\\n3.3 The Geometric Mean (1)\\n• The arithmetic mean is additive.\\n– Ignores the effects of compounding\\n– Suitable for analyzing a one-year investment\\n• The geometric mean is a multiplicative average.\\n– Smaller than the arithmetic mean\\n– Less sensitive to outliers\\n• The geometric mean is\\n– Relevant measure when evaluating investment returns over several \\nyears\\n– Calculating the average growth rates\\n• For n multiperiod returns 𝑅1,𝑅2,⋯,𝑅3, the geometric mean \\nreturn 𝐺𝑅is given by the below.\\n𝐺𝑅 =\\n𝑛\\n1+𝑅1 1+𝑅2 ⋯ 1+𝑅𝑛 −1'),\n",
       " Document(metadata={'producer': 'iLovePDF', 'creator': 'PyPDF', 'creationdate': '', 'moddate': '2025-08-24T16:13:42+00:00', 'source': 'pdfs\\\\DA1.pdf', 'total_pages': 123, 'page': 97, 'page_label': '98'}, page_content='3-29\\nCopyright ©2022 McGraw Hill. All rights reserved. No reproduction or distribution without the prior written \\nconsent of McGraw Hill.\\nBUSINESS STATISTICS: COMMUNICATING WITH NUMBERS, 4e | Jaggia, Kelly\\nCopyright ©2022 McGraw Hill. All rights reserved. No reproduction or distribution without the prior written consent of McGraw Hill.\\n3-29\\n3.3 The Geometric Mean (2)\\n• Example: given an initial investment of $1,000 over two years\\n• The arithmetic mean return is ҧ𝑥 = 10+(−10)\\n2 = 0%\\n• The geometric mean is \\n𝐺𝑅 =\\n2\\n1+0.10 1+(−0.10) −1 = −0.005 or −0.5%\\n• We can interpret the geometric return as the annualized return \\nfrom the two year-period.\\nYear Return % Value at the End of Year\\n1 10 1,000 + 1,000 × 0.10 = 1,100\\n2 −10 1,100 + 1,100 × (−0.10) = 990\\nYear Annualized Return Value at the End of Year\\n1 −0.5 1,000 + 1,000 × (−0.005) = 995\\n2 −0.5 995 + 995 × (−0.005) = 990'),\n",
       " Document(metadata={'producer': 'iLovePDF', 'creator': 'PyPDF', 'creationdate': '', 'moddate': '2025-08-24T16:13:42+00:00', 'source': 'pdfs\\\\DA1.pdf', 'total_pages': 123, 'page': 98, 'page_label': '99'}, page_content='3-30\\nCopyright ©2022 McGraw Hill. All rights reserved. No reproduction or distribution without the prior written \\nconsent of McGraw Hill.\\nBUSINESS STATISTICS: COMMUNICATING WITH NUMBERS, 4e | Jaggia, Kelly\\nCopyright ©2022 McGraw Hill. All rights reserved. No reproduction or distribution without the prior written consent of McGraw Hill.\\n3-30\\n3.3 The Geometric Mean (3)\\n• Also use the geometric mean when we calculate an \\naverage growth rate.\\n• For n growth rates 𝑔1,𝑔2,⋯,𝑔𝑛, the average growth rate \\nis computed as 𝐺𝑔 =\\n𝑛\\n1+𝑔1 1+𝑔2 ⋯ 1+𝑔𝑛 −1.\\n• There is a simpler way to compute the average growth \\nrate from the values rather than growth rates.\\n• For n observations 𝑥1,𝑥2,⋯,𝑥𝑛, the average growth rate \\nis computed using n-1 distinct growth rates.\\n𝐺𝑔 =\\n𝑛−1 𝑥𝑛\\n𝑥𝑛−1\\n𝑥𝑛−1\\n𝑥𝑛−2\\n𝑥𝑛−2\\n𝑥𝑛−3\\n⋯\\n𝑥2\\n𝑥1\\n−1 =\\n𝑛−1 𝑥𝑛\\n𝑥1\\n−1'),\n",
       " Document(metadata={'producer': 'iLovePDF', 'creator': 'PyPDF', 'creationdate': '', 'moddate': '2025-08-24T16:13:42+00:00', 'source': 'pdfs\\\\DA1.pdf', 'total_pages': 123, 'page': 99, 'page_label': '100'}, page_content='3-31\\nCopyright ©2022 McGraw Hill. All rights reserved. No reproduction or distribution without the prior written \\nconsent of McGraw Hill.\\nBUSINESS STATISTICS: COMMUNICATING WITH NUMBERS, 4e | Jaggia, Kelly\\nCopyright ©2022 McGraw Hill. All rights reserved. No reproduction or distribution without the prior written consent of McGraw Hill.\\n3-31\\n3.3 The Geometric Mean (4)\\n• Example: sales for multinational corporation\\n• The growth rate after five years is 6.15%.\\n𝐺𝑔 =\\n5−1 16,915\\n13,322−1 = 0.0615𝑜𝑟6.15%'),\n",
       " Document(metadata={'producer': 'iLovePDF', 'creator': 'PyPDF', 'creationdate': '', 'moddate': '2025-08-24T16:13:42+00:00', 'source': 'pdfs\\\\DA1.pdf', 'total_pages': 123, 'page': 100, 'page_label': '101'}, page_content='3-32\\nCopyright ©2022 McGraw Hill. All rights reserved. No reproduction or distribution without the prior written \\nconsent of McGraw Hill.\\nBUSINESS STATISTICS: COMMUNICATING WITH NUMBERS, 4e | Jaggia, Kelly\\nCopyright ©2022 McGraw Hill. All rights reserved. No reproduction or distribution without the prior written consent of McGraw Hill.\\n3-32\\n3.4 Measures of Dispersion (1)\\n• Measures of central location do not describe the underlying \\ndispersion.\\n• Measures of dispersion gauge the variability of a variable.\\n– 0 indicates all the observations are identical\\n– Increases as the observations become more diverse\\n• The range is the simplest measure.\\n– Difference between the maximum and minimum\\n– Range = Max – Min\\n– Not good because it focuses solely on extreme observations\\n• The interquartile range (IQR) is the difference between the \\nthird quartile and the first quartile.\\n– 𝐼𝑄𝑅 = 𝑄3 −𝑄1\\n– The range of the middle 50% of the variable\\n– Does not depend on the extreme observations\\n• Neither the range or IQR incorporate all the observations.'),\n",
       " Document(metadata={'producer': 'iLovePDF', 'creator': 'PyPDF', 'creationdate': '', 'moddate': '2025-08-24T16:13:42+00:00', 'source': 'pdfs\\\\DA1.pdf', 'total_pages': 123, 'page': 101, 'page_label': '102'}, page_content='3-33\\nCopyright ©2022 McGraw Hill. All rights reserved. No reproduction or distribution without the prior written \\nconsent of McGraw Hill.\\nBUSINESS STATISTICS: COMMUNICATING WITH NUMBERS, 4e | Jaggia, Kelly\\nCopyright ©2022 McGraw Hill. All rights reserved. No reproduction or distribution without the prior written consent of McGraw Hill.\\n3-33\\n3.4 Measures of Dispersion (2)\\n• A good measure of dispersion should consider differences of \\nall observations from the mean.\\n• If we average all the differences from the mean, the positives \\nand negatives will cancel out.\\n• The mean absolute difference (MAD) is the average of the \\nabsolute differences between the observations and the \\nmean.\\n• For sample observations 𝑥1,𝑥2,⋯,𝑥𝑛, the sample MAD is \\ncomputed as sample MAD = \\nσ|𝑥𝑖− ҧ𝑥|\\n𝑛 .\\n• For population observations 𝑥1,𝑥2,⋯,𝑥𝑁, the population \\nMAD is computed as population MAD = \\nσ|𝑥𝑖−𝜇|\\n𝑁 .'),\n",
       " Document(metadata={'producer': 'iLovePDF', 'creator': 'PyPDF', 'creationdate': '', 'moddate': '2025-08-24T16:13:42+00:00', 'source': 'pdfs\\\\DA1.pdf', 'total_pages': 123, 'page': 102, 'page_label': '103'}, page_content='3-34\\nCopyright ©2022 McGraw Hill. All rights reserved. No reproduction or distribution without the prior written \\nconsent of McGraw Hill.\\nBUSINESS STATISTICS: COMMUNICATING WITH NUMBERS, 4e | Jaggia, Kelly\\nCopyright ©2022 McGraw Hill. All rights reserved. No reproduction or distribution without the prior written consent of McGraw Hill.\\n3-34\\n3.4 Measures of Dispersion (3)\\n• The variance and the standard deviation are the two \\nmost widely used measures of dispersion.\\n– Compute the average of the squared differences\\n– The squaring of the differences emphasizes larger differences\\n• The variance is defined as the average of the squared \\ndifferences between the observations and the mean.\\n• Whatever the units of original variable, the variance has \\nsquared units. \\n• To return to the original units, we take the positive \\nsquare root of the variance which gives the standard \\ndeviation.'),\n",
       " Document(metadata={'producer': 'iLovePDF', 'creator': 'PyPDF', 'creationdate': '', 'moddate': '2025-08-24T16:13:42+00:00', 'source': 'pdfs\\\\DA1.pdf', 'total_pages': 123, 'page': 103, 'page_label': '104'}, page_content='3-35\\nCopyright ©2022 McGraw Hill. All rights reserved. No reproduction or distribution without the prior written \\nconsent of McGraw Hill.\\nBUSINESS STATISTICS: COMMUNICATING WITH NUMBERS, 4e | Jaggia, Kelly\\nCopyright ©2022 McGraw Hill. All rights reserved. No reproduction or distribution without the prior written consent of McGraw Hill.\\n3-35\\n3.4 Measures of Dispersion (4)\\n• For sample observations 𝑥1,𝑥2,⋯,𝑥𝑛, the sample \\nvariance 𝑠2 and standard deviation 𝑠 are:\\n– 𝑠2 =\\nσ 𝑥𝑖− ҧ𝑥 2\\n𝑛−1\\n– 𝑠 = 𝑠2\\n• For population observations 𝑥1,𝑥2,⋯,𝑥𝑁, the population \\nvariance 𝜎2 and standard deviation 𝜎 are:\\n– 𝜎2 =\\nσ 𝑥𝑖−𝜇 2\\n𝑁\\n– 𝜎 = 𝜎2\\n• The sample variance uses n-1 rather than n in the \\ndenominator to ensure the sample variance is an \\nunbiased estimator (Appendix 7.2).'),\n",
       " Document(metadata={'producer': 'iLovePDF', 'creator': 'PyPDF', 'creationdate': '', 'moddate': '2025-08-24T16:13:42+00:00', 'source': 'pdfs\\\\DA1.pdf', 'total_pages': 123, 'page': 104, 'page_label': '105'}, page_content='3-36\\nCopyright ©2022 McGraw Hill. All rights reserved. No reproduction or distribution without the prior written \\nconsent of McGraw Hill.\\nBUSINESS STATISTICS: COMMUNICATING WITH NUMBERS, 4e | Jaggia, Kelly\\nCopyright ©2022 McGraw Hill. All rights reserved. No reproduction or distribution without the prior written consent of McGraw Hill.\\n3-36\\n3.4 Measures of Dispersion (5)\\n• Summary of Excel and R Commands\\n• Range\\n– Excel: MAX – MIN\\n– R:\\n• MAD\\n– Excel: AVEDEF\\n– R:\\n• Standard deviation and variance\\n– Excel: VAR.S and STDEV.S\\n– R:'),\n",
       " Document(metadata={'producer': 'iLovePDF', 'creator': 'PyPDF', 'creationdate': '', 'moddate': '2025-08-24T16:13:42+00:00', 'source': 'pdfs\\\\DA1.pdf', 'total_pages': 123, 'page': 105, 'page_label': '106'}, page_content='3-37\\nCopyright ©2022 McGraw Hill. All rights reserved. No reproduction or distribution without the prior written \\nconsent of McGraw Hill.\\nBUSINESS STATISTICS: COMMUNICATING WITH NUMBERS, 4e | Jaggia, Kelly\\nCopyright ©2022 McGraw Hill. All rights reserved. No reproduction or distribution without the prior written consent of McGraw Hill.\\n3-37\\n3.4 Measures of Dispersion (6)\\n• Example: measures of dispersion for Growth \\nand Value\\n• Range\\n– Growth: 120.38\\n– Value: 90.6\\n• MAD\\n– Growth: 17.49\\n– Value: 13.67\\n• Variance and standard deviation\\n– Growth: 566.41, 23.80\\n– Value: 323.25, 17.98'),\n",
       " Document(metadata={'producer': 'iLovePDF', 'creator': 'PyPDF', 'creationdate': '', 'moddate': '2025-08-24T16:13:42+00:00', 'source': 'pdfs\\\\DA1.pdf', 'total_pages': 123, 'page': 106, 'page_label': '107'}, page_content='3-38\\nCopyright ©2022 McGraw Hill. All rights reserved. No reproduction or distribution without the prior written \\nconsent of McGraw Hill.\\nBUSINESS STATISTICS: COMMUNICATING WITH NUMBERS, 4e | Jaggia, Kelly\\nCopyright ©2022 McGraw Hill. All rights reserved. No reproduction or distribution without the prior written consent of McGraw Hill.\\n3-38\\n3.4 Measures of Dispersion (7)\\n• We want to compare the variability of two or more \\ndata sets that have different means or units.\\n• The coefficient of variation is the relevant measure. \\n– Denoted CV\\n– Adjusts for differences in the magnitudes of the means\\n– Unitless, allowing easy comparisons of mean-adjusted \\ndispersion across different data sets\\n• Sample CV:\\n𝑠\\nҧ𝑥\\n• Population CV: \\n𝜎\\n𝜇'),\n",
       " Document(metadata={'producer': 'iLovePDF', 'creator': 'PyPDF', 'creationdate': '', 'moddate': '2025-08-24T16:13:42+00:00', 'source': 'pdfs\\\\DA1.pdf', 'total_pages': 123, 'page': 107, 'page_label': '108'}, page_content='3-39\\nCopyright ©2022 McGraw Hill. All rights reserved. No reproduction or distribution without the prior written \\nconsent of McGraw Hill.\\nBUSINESS STATISTICS: COMMUNICATING WITH NUMBERS, 4e | Jaggia, Kelly\\nCopyright ©2022 McGraw Hill. All rights reserved. No reproduction or distribution without the prior written consent of McGraw Hill.\\n3-39\\n3.4 Measures of Dispersion (8)\\n• Example: CV for Growth and Value\\n• Growth CV: 𝑠\\nҧ𝑥 = 23.80\\n15.755 =1.51\\n• Value CV: 𝑠\\nҧ𝑥 = 17.98\\n12.005 =1.50\\n• The coefficient of variation indicates that the \\nrelative dispersion of the two variables is about \\nthe same.'),\n",
       " Document(metadata={'producer': 'iLovePDF', 'creator': 'PyPDF', 'creationdate': '', 'moddate': '2025-08-24T16:13:42+00:00', 'source': 'pdfs\\\\DA1.pdf', 'total_pages': 123, 'page': 108, 'page_label': '109'}, page_content='3-40\\nCopyright ©2022 McGraw Hill. All rights reserved. No reproduction or distribution without the prior written \\nconsent of McGraw Hill.\\nBUSINESS STATISTICS: COMMUNICATING WITH NUMBERS, 4e | Jaggia, Kelly\\nCopyright ©2022 McGraw Hill. All rights reserved. No reproduction or distribution without the prior written consent of McGraw Hill.\\n3-40\\n3.5 Mean-Variance Analysis and the \\nSharpe Ratio (1)\\n• Investments include financial assets such as stocks, \\nbonds, and mutual funds. \\n• The average return represents an investor’s reward, \\nwhereas variance, or equivalently standard \\ndeviation, corresponds to risk.\\n• Mean-variance analysis postulates the performance \\nof an asset is measured by its rate of return, \\nevaluated in terms of reward (mean) and risk \\n(variance).\\n• Investments with higher returns also carry higher \\nrisk.'),\n",
       " Document(metadata={'producer': 'iLovePDF', 'creator': 'PyPDF', 'creationdate': '', 'moddate': '2025-08-24T16:13:42+00:00', 'source': 'pdfs\\\\DA1.pdf', 'total_pages': 123, 'page': 109, 'page_label': '110'}, page_content='3-41\\nCopyright ©2022 McGraw Hill. All rights reserved. No reproduction or distribution without the prior written \\nconsent of McGraw Hill.\\nBUSINESS STATISTICS: COMMUNICATING WITH NUMBERS, 4e | Jaggia, Kelly\\nCopyright ©2022 McGraw Hill. All rights reserved. No reproduction or distribution without the prior written consent of McGraw Hill.\\n3-41\\n3.5 Mean-Variance Analysis and the \\nSharpe Ratio (2)\\n• The Sharpe ratio is the “reward-to-variability” ratio. \\n– Characterizes how well the return compensates for the risk\\n– Measures the extra reward per unit of risk\\n• Calculated as \\nҧ𝑥𝐼−𝑅𝑖\\n𝑠𝐼\\n, where 𝑅𝑖 is the mean return for a \\nrisk-free asset such as a Treasure bill (T-bill)\\n• The numerator measures the extra reward for the \\nadded risk, the difference is excess return\\n• The higher Sharpe ratio, the better the investment \\ncompensates its investors for risk.'),\n",
       " Document(metadata={'producer': 'iLovePDF', 'creator': 'PyPDF', 'creationdate': '', 'moddate': '2025-08-24T16:13:42+00:00', 'source': 'pdfs\\\\DA1.pdf', 'total_pages': 123, 'page': 110, 'page_label': '111'}, page_content='3-42\\nCopyright ©2022 McGraw Hill. All rights reserved. No reproduction or distribution without the prior written \\nconsent of McGraw Hill.\\nBUSINESS STATISTICS: COMMUNICATING WITH NUMBERS, 4e | Jaggia, Kelly\\nCopyright ©2022 McGraw Hill. All rights reserved. No reproduction or distribution without the prior written consent of McGraw Hill.\\n3-42\\n3.5 Mean-Variance Analysis and the \\nSharpe Ratio (3)\\n• Example: compute the Sharpe ratios for the Growth \\nand Value fund assuming ത𝑅𝑓 = 2%.\\n• Growth: \\n15.755−2\\n23.799 = 0.58\\n• Value: \\n12.005−2\\n17.797 = 0.56\\n• The Growth funds have a higher rate of return \\n(good) along with a higher variance (bad). \\n• Growth funds offer more reward per unit risk than \\nthe Value funds.'),\n",
       " Document(metadata={'producer': 'iLovePDF', 'creator': 'PyPDF', 'creationdate': '', 'moddate': '2025-08-24T16:13:42+00:00', 'source': 'pdfs\\\\DA1.pdf', 'total_pages': 123, 'page': 111, 'page_label': '112'}, page_content='3-43\\nCopyright ©2022 McGraw Hill. All rights reserved. No reproduction or distribution without the prior written \\nconsent of McGraw Hill.\\nBUSINESS STATISTICS: COMMUNICATING WITH NUMBERS, 4e | Jaggia, Kelly\\nCopyright ©2022 McGraw Hill. All rights reserved. No reproduction or distribution without the prior written consent of McGraw Hill.\\n3-43\\n3.6 Analysis of Relative Location (1)\\n• The mean and standard deviation alone don’t tell us about \\nrelative location.\\n– Low standard deviation: observations are close to the mean\\n– High standard deviation: observations are spread out\\n• Chebyshev’s Theorem\\n– The proportion of observations that lie within k standard deviations \\nfrom the mean is at least 1− Τ1 𝑘2, where 𝑘 is any number greater \\nthan 1\\n– At least 75% of the observations fall within 2 standard deviations from \\nthe mean\\n– At least 89% of the observations fall within 3 standard deviations from \\nthe mean\\n– Applies to all variables, regardless of the shape of the distribution\\n– Conservative bounds for the percentage of observations falling into \\ninterval'),\n",
       " Document(metadata={'producer': 'iLovePDF', 'creator': 'PyPDF', 'creationdate': '', 'moddate': '2025-08-24T16:13:42+00:00', 'source': 'pdfs\\\\DA1.pdf', 'total_pages': 123, 'page': 112, 'page_label': '113'}, page_content='3-44\\nCopyright ©2022 McGraw Hill. All rights reserved. No reproduction or distribution without the prior written \\nconsent of McGraw Hill.\\nBUSINESS STATISTICS: COMMUNICATING WITH NUMBERS, 4e | Jaggia, Kelly\\nCopyright ©2022 McGraw Hill. All rights reserved. No reproduction or distribution without the prior written consent of McGraw Hill.\\n3-44\\n3.6 Analysis of Relative Location (2)\\n• Example: a large lecture class has 280 students. \\n– The mean score on an exam is 74 with a standard deviation of 8. \\n– At least how many students scored within 58 and 90?\\n• 58 and 90 are two standard deviations below and above the \\nmean\\n– 58 = 74−2∗8\\n– 90 = 74+2∗8\\n• 𝑘 = 2 and 1− Τ1 22 = 0.75\\n• At least 75% of the scores will fall within 58 and 90\\n• At least 75% of 280 students, or 210 students, scored within \\n58 and 90'),\n",
       " Document(metadata={'producer': 'iLovePDF', 'creator': 'PyPDF', 'creationdate': '', 'moddate': '2025-08-24T16:13:42+00:00', 'source': 'pdfs\\\\DA1.pdf', 'total_pages': 123, 'page': 113, 'page_label': '114'}, page_content='3-45\\nCopyright ©2022 McGraw Hill. All rights reserved. No reproduction or distribution without the prior written \\nconsent of McGraw Hill.\\nBUSINESS STATISTICS: COMMUNICATING WITH NUMBERS, 4e | Jaggia, Kelly\\nCopyright ©2022 McGraw Hill. All rights reserved. No reproduction or distribution without the prior written consent of McGraw Hill.\\n3-45\\n3.6 Analysis of Relative Location (3)\\n• Chebyshev’s Theorem gives a conservative bound, the \\nempirical rule makes more precise statements.\\n• Assume the observations are drawn from a relatively \\nsymmetric and bell-shaped distribution.\\n– Inspection of a histogram\\n– Other numerical measures (e.g. skewness)\\n• The empirical rule provides the approximate percentage of \\nobservations that fall within a specified number of standard \\ndeviations from the mean.\\n– Approximately 68% of all observations fall in the interval ҧ𝑥 ±𝑠\\n– Approximately 95% of all observations fall in the interval ҧ𝑥 ±2𝑠\\n– Almost all all observations fall in the interval ҧ𝑥 ±3𝑠\\n• If the distribution is symmetric and bell-shaped, the empirical \\nrule is preferable to Chebyshev’s Theorem.'),\n",
       " Document(metadata={'producer': 'iLovePDF', 'creator': 'PyPDF', 'creationdate': '', 'moddate': '2025-08-24T16:13:42+00:00', 'source': 'pdfs\\\\DA1.pdf', 'total_pages': 123, 'page': 114, 'page_label': '115'}, page_content='3-46\\nCopyright ©2022 McGraw Hill. All rights reserved. No reproduction or distribution without the prior written \\nconsent of McGraw Hill.\\nBUSINESS STATISTICS: COMMUNICATING WITH NUMBERS, 4e | Jaggia, Kelly\\nCopyright ©2022 McGraw Hill. All rights reserved. No reproduction or distribution without the prior written consent of McGraw Hill.\\n3-46\\n3.6 Analysis of Relative Location (4)'),\n",
       " Document(metadata={'producer': 'iLovePDF', 'creator': 'PyPDF', 'creationdate': '', 'moddate': '2025-08-24T16:13:42+00:00', 'source': 'pdfs\\\\DA1.pdf', 'total_pages': 123, 'page': 115, 'page_label': '116'}, page_content='3-47\\nCopyright ©2022 McGraw Hill. All rights reserved. No reproduction or distribution without the prior written \\nconsent of McGraw Hill.\\nBUSINESS STATISTICS: COMMUNICATING WITH NUMBERS, 4e | Jaggia, Kelly\\nCopyright ©2022 McGraw Hill. All rights reserved. No reproduction or distribution without the prior written consent of McGraw Hill.\\n3-47\\n3.6 Analysis of Relative Location (5)\\n• Example: a large lecture class has 280 students. \\n– The mean score on an exam is 74 with a standard deviation of 8. \\n– Approximately how many students scored within 58 and 90?\\n– Approximately how many students scored more than 90?\\n• 58 and 90 are two standard deviations below and above the \\nmean. \\n• So about 95% of 280 students, or 266, scored within 58 and \\n90.\\n• 90 is two standard deviations above the mean.\\n– 95% of the observations fall within two standard deviations of the \\nmean, 5% fall outside the interval\\n– Given the symmetry of the distribution, 2.5% scored above 90\\n– 2.5% of the 280 students, or about 7, scored above 90 on the exam'),\n",
       " Document(metadata={'producer': 'iLovePDF', 'creator': 'PyPDF', 'creationdate': '', 'moddate': '2025-08-24T16:13:42+00:00', 'source': 'pdfs\\\\DA1.pdf', 'total_pages': 123, 'page': 116, 'page_label': '117'}, page_content='3-48\\nCopyright ©2022 McGraw Hill. All rights reserved. No reproduction or distribution without the prior written \\nconsent of McGraw Hill.\\nBUSINESS STATISTICS: COMMUNICATING WITH NUMBERS, 4e | Jaggia, Kelly\\nCopyright ©2022 McGraw Hill. All rights reserved. No reproduction or distribution without the prior written consent of McGraw Hill.\\n3-48\\n3.6 Analysis of Relative Location (6)\\n• Use the mean and the standard deviation to \\nfind the relative location of an observation \\nwithin a distribution. \\n• The z-score gives the relative position of an \\nobservation within a distribution by 𝑧 =\\n𝑥− ҧ𝑥\\n𝑠 .\\n– Unitless measure \\n– Measures the distance of an observation from the \\nmean in terms of standard deviations\\n– Also called standardizing'),\n",
       " Document(metadata={'producer': 'iLovePDF', 'creator': 'PyPDF', 'creationdate': '', 'moddate': '2025-08-24T16:13:42+00:00', 'source': 'pdfs\\\\DA1.pdf', 'total_pages': 123, 'page': 117, 'page_label': '118'}, page_content='3-49\\nCopyright ©2022 McGraw Hill. All rights reserved. No reproduction or distribution without the prior written \\nconsent of McGraw Hill.\\nBUSINESS STATISTICS: COMMUNICATING WITH NUMBERS, 4e | Jaggia, Kelly\\nCopyright ©2022 McGraw Hill. All rights reserved. No reproduction or distribution without the prior written consent of McGraw Hill.\\n3-49\\n3.6 Analysis of Relative Location (7)\\n• If the distribution is relatively symmetric and \\nbell-shaped, use z-scores to detect outliers. \\n• Since almost all observations are within three \\nstandard deviations of the mean, an \\nobservation is an outlier if its z-score is more \\nthan 3 or less than −3. \\n• Such observations must be reviewed to \\ndetermine if they should remain in the data \\nset.'),\n",
       " Document(metadata={'producer': 'iLovePDF', 'creator': 'PyPDF', 'creationdate': '', 'moddate': '2025-08-24T16:13:42+00:00', 'source': 'pdfs\\\\DA1.pdf', 'total_pages': 123, 'page': 118, 'page_label': '119'}, page_content='3-50\\nCopyright ©2022 McGraw Hill. All rights reserved. No reproduction or distribution without the prior written \\nconsent of McGraw Hill.\\nBUSINESS STATISTICS: COMMUNICATING WITH NUMBERS, 4e | Jaggia, Kelly\\nCopyright ©2022 McGraw Hill. All rights reserved. No reproduction or distribution without the prior written consent of McGraw Hill.\\n3-50\\n3.6 Analysis of Relative Location (8)\\n• Example: compute the z-scores of the smallest and largest \\nobservations in Growth, and determine if they are outliers.\\n• Smallest: 𝑧 =\\n−40.90−15.775\\n23.799 = −2.38\\n• Largest: 𝑧 =\\n79.48−15.775\\n23.799 = 2.68\\n• Neither are outliers, which is consistent with the Growth’s \\nboxplot.'),\n",
       " Document(metadata={'producer': 'iLovePDF', 'creator': 'PyPDF', 'creationdate': '', 'moddate': '2025-08-24T16:13:42+00:00', 'source': 'pdfs\\\\DA1.pdf', 'total_pages': 123, 'page': 119, 'page_label': '120'}, page_content='3-51\\nCopyright ©2022 McGraw Hill. All rights reserved. No reproduction or distribution without the prior written \\nconsent of McGraw Hill.\\nBUSINESS STATISTICS: COMMUNICATING WITH NUMBERS, 4e | Jaggia, Kelly\\nCopyright ©2022 McGraw Hill. All rights reserved. No reproduction or distribution without the prior written consent of McGraw Hill.\\n3-51\\n3.7 Measure of Association (1)\\n• In Chapter 2, we used a scatterplot to visually assess whether two \\nvariables had some type of linear relationship.\\n• If the relationship is linear, there are two numerical measures of \\nassociation that quantify the direction and strength of the linear \\nrelationship.\\n• Covariance measures the direction of the linear relationship.\\n– Population: 𝜎𝑥𝑦 =\\nσ 𝑥𝑖−𝜇𝑥 𝑦𝑖−𝜇𝑦\\n𝑁\\n– Sample: 𝑠𝑥𝑦 =\\nσ 𝑥𝑖− ҧ𝑥 𝑦𝑖−ത𝑦\\n𝑛−1\\n– Negative: negative linear relationship\\n– Positive: positive linear relationship\\n– Zero: no linear relationship\\n• Covariance is hard to interpret because it is sensitive to the units \\nof measurement. We cannot comment on the strength of the linear \\nrelationship.'),\n",
       " Document(metadata={'producer': 'iLovePDF', 'creator': 'PyPDF', 'creationdate': '', 'moddate': '2025-08-24T16:13:42+00:00', 'source': 'pdfs\\\\DA1.pdf', 'total_pages': 123, 'page': 120, 'page_label': '121'}, page_content='3-52\\nCopyright ©2022 McGraw Hill. All rights reserved. No reproduction or distribution without the prior written \\nconsent of McGraw Hill.\\nBUSINESS STATISTICS: COMMUNICATING WITH NUMBERS, 4e | Jaggia, Kelly\\nCopyright ©2022 McGraw Hill. All rights reserved. No reproduction or distribution without the prior written consent of McGraw Hill.\\n3-52\\n3.7 Measure of Association (2)\\n• The correlation coefficient describes both the direction and \\nstrength of the linear relationship between x and y.\\n– Population: 𝜌𝑥𝑦 =\\n𝜎𝑥𝑦\\n𝜎𝑥𝜎𝑦\\n– Sample: 𝑟𝑥𝑦 =\\n𝑠𝑥𝑦\\n𝑠𝑥𝑠𝑦\\n– Negative: negative linear relationship\\n– Positive: positive linear relationship\\n– Zero: no linear relationship\\n• The correlation is unit-free.\\n• The correlation is between -1 and 1.\\n– Correlation is -1: perfect negative linear relationship\\n– Correlation is 0:  not linearly related\\n– Correlation is 1: perfect positive linear relationship'),\n",
       " Document(metadata={'producer': 'iLovePDF', 'creator': 'PyPDF', 'creationdate': '', 'moddate': '2025-08-24T16:13:42+00:00', 'source': 'pdfs\\\\DA1.pdf', 'total_pages': 123, 'page': 121, 'page_label': '122'}, page_content='3-53\\nCopyright ©2022 McGraw Hill. All rights reserved. No reproduction or distribution without the prior written \\nconsent of McGraw Hill.\\nBUSINESS STATISTICS: COMMUNICATING WITH NUMBERS, 4e | Jaggia, Kelly\\nCopyright ©2022 McGraw Hill. All rights reserved. No reproduction or distribution without the prior written consent of McGraw Hill.\\n3-53\\n3.7 Measure of Association (3)\\n• Example: using Excel or R, find the covariance and the \\ncorrelation coefficient for Growth and Value.'),\n",
       " Document(metadata={'producer': 'iLovePDF', 'creator': 'PyPDF', 'creationdate': '', 'moddate': '2025-08-24T16:13:42+00:00', 'source': 'pdfs\\\\DA1.pdf', 'total_pages': 123, 'page': 122, 'page_label': '123'}, page_content='3-54\\nCopyright ©2022 McGraw Hill. All rights reserved. No reproduction or distribution without the prior written \\nconsent of McGraw Hill.\\nBUSINESS STATISTICS: COMMUNICATING WITH NUMBERS, 4e | Jaggia, Kelly\\nCopyright ©2022 McGraw Hill. All rights reserved. No reproduction or distribution without the prior written consent of McGraw Hill.\\n3-54\\n3.7 Measure of Association (4)\\n• Example: continued\\n• With Excel\\n– COVARIANCE.S\\n– CORREL\\n• With R')]"
      ]
     },
     "execution_count": 106,
     "metadata": {},
     "output_type": "execute_result"
    }
   ],
   "source": [
    "text_chunks"
   ]
  },
  {
   "cell_type": "code",
   "execution_count": 107,
   "id": "a734edb5",
   "metadata": {},
   "outputs": [
    {
     "name": "stdout",
     "output_type": "stream",
     "text": [
      "Visualizing Categorical Variables\n",
      "Bar Chart Pie Chart Stacked Bar Chart\n",
      "One Variable Two Variables\n"
     ]
    }
   ],
   "source": [
    "print(text_chunks[6].page_content)"
   ]
  },
  {
   "cell_type": "code",
   "execution_count": 108,
   "id": "95757667",
   "metadata": {},
   "outputs": [
    {
     "data": {
      "text/plain": [
       "True"
      ]
     },
     "execution_count": 108,
     "metadata": {},
     "output_type": "execute_result"
    }
   ],
   "source": [
    "import os\n",
    "from dotenv import load_dotenv\n",
    "load_dotenv()"
   ]
  },
  {
   "cell_type": "code",
   "execution_count": 109,
   "id": "7a507d0d",
   "metadata": {},
   "outputs": [],
   "source": [
    "OPENAI_API_KEY = os.getenv(\"OPENAI_API_KEY\")\n",
    "\n",
    "\n",
    "os.environ[\"OPENAI_API_KEY\"]= OPENAI_API_KEY"
   ]
  },
  {
   "cell_type": "code",
   "execution_count": 110,
   "id": "843437a8",
   "metadata": {},
   "outputs": [],
   "source": [
    "embedding = OpenAIEmbeddings()"
   ]
  },
  {
   "cell_type": "code",
   "execution_count": 111,
   "id": "ab5e8856",
   "metadata": {},
   "outputs": [
    {
     "data": {
      "text/plain": [
       "1536"
      ]
     },
     "execution_count": 111,
     "metadata": {},
     "output_type": "execute_result"
    }
   ],
   "source": [
    "len(embedding.embed_query(text_chunks[6].page_content))"
   ]
  },
  {
   "cell_type": "code",
   "execution_count": 112,
   "id": "85a6b221",
   "metadata": {},
   "outputs": [
    {
     "data": {
      "text/plain": [
       "1536"
      ]
     },
     "execution_count": 112,
     "metadata": {},
     "output_type": "execute_result"
    }
   ],
   "source": [
    "len(embedding.embed_query(\"How are you?\"))"
   ]
  },
  {
   "cell_type": "code",
   "execution_count": 113,
   "id": "dbe02b7a",
   "metadata": {},
   "outputs": [],
   "source": [
    "from pinecone import Pinecone, ServerlessSpec \n",
    "#PINECONE_API_KEY= os.environ.get(\"PINECONE_API_KEY\",\"pcsk_62zXe8_NsmcMGGcY57J4KNEYysAgXPFSEXyC9U6qUZukfAVbBoKVy8s55rMpTVZfHgxyRu\")\n",
    "PINECONE_API_KEY=\"pcsk_62zXe8_NsmcMGGcY57J4KNEYysAgXPFSEXyC9U6qUZukfAVbBoKVy8s55rMpTVZfHgxyRu\"\n",
    "os.environ[\"PINECONE_API_KEY\"]=PINECONE_API_KEY"
   ]
  },
  {
   "cell_type": "code",
   "execution_count": 114,
   "id": "f307ab74",
   "metadata": {},
   "outputs": [],
   "source": [
    "from pinecone import Pinecone, ServerlessSpec   # Pinecone SDK\n",
    "from langchain_pinecone import PineconeVectorStore  # LangChain wrapper\n"
   ]
  },
  {
   "cell_type": "code",
   "execution_count": 115,
   "id": "341d3afc",
   "metadata": {},
   "outputs": [],
   "source": [
    "pc = Pinecone(api_key=PINECONE_API_KEY)"
   ]
  },
  {
   "cell_type": "code",
   "execution_count": 116,
   "id": "95c8ed73",
   "metadata": {},
   "outputs": [],
   "source": [
    "index_name = \"testing\""
   ]
  },
  {
   "cell_type": "code",
   "execution_count": 117,
   "id": "8ea5ab73",
   "metadata": {},
   "outputs": [],
   "source": [
    "if index_name not in [i[\"name\"] for i in pc.list_indexes()]:\n",
    "    pc.create_index(\n",
    "        name=index_name,\n",
    "        dimension=1536,        # Must match your embedding model dimension\n",
    "        metric=\"cosine\",\n",
    "        spec=ServerlessSpec(cloud=\"aws\", region=\"us-east-1\")\n",
    "    )"
   ]
  },
  {
   "cell_type": "code",
   "execution_count": 118,
   "id": "d6fdd3df",
   "metadata": {},
   "outputs": [],
   "source": [
    "index = pc.Index(index_name)"
   ]
  },
  {
   "cell_type": "markdown",
   "id": "e063100d",
   "metadata": {},
   "source": [
    "# Create Embeddings for each of the Text Chunk"
   ]
  },
  {
   "cell_type": "code",
   "execution_count": 119,
   "id": "45fbb70d",
   "metadata": {},
   "outputs": [],
   "source": [
    "docsearch = PineconeVectorStore.from_texts(\n",
    "    texts=[t.page_content for t in text_chunks],\n",
    "    embedding=embedding,\n",
    "    index_name=index_name\n",
    ")"
   ]
  },
  {
   "cell_type": "code",
   "execution_count": 120,
   "id": "1863d23e",
   "metadata": {},
   "outputs": [
    {
     "data": {
      "text/plain": [
       "<langchain_pinecone.vectorstores.PineconeVectorStore at 0x1eaca045f90>"
      ]
     },
     "execution_count": 120,
     "metadata": {},
     "output_type": "execute_result"
    }
   ],
   "source": [
    "docsearch"
   ]
  },
  {
   "cell_type": "code",
   "execution_count": 121,
   "id": "965ec63b",
   "metadata": {},
   "outputs": [
    {
     "data": {
      "text/plain": [
       "VectorStoreRetriever(tags=['PineconeVectorStore', 'OpenAIEmbeddings'], vectorstore=<langchain_pinecone.vectorstores.PineconeVectorStore object at 0x000001EACA045F90>, search_kwargs={})"
      ]
     },
     "execution_count": 121,
     "metadata": {},
     "output_type": "execute_result"
    }
   ],
   "source": [
    "docsearch.as_retriever()"
   ]
  },
  {
   "cell_type": "code",
   "execution_count": 122,
   "id": "1d6f384d",
   "metadata": {},
   "outputs": [],
   "source": [
    "query=\"machine learning models\""
   ]
  },
  {
   "cell_type": "code",
   "execution_count": 123,
   "id": "06e67ac6",
   "metadata": {},
   "outputs": [],
   "source": [
    "docs=docsearch.similarity_search(query)"
   ]
  },
  {
   "cell_type": "code",
   "execution_count": 124,
   "id": "d172424d",
   "metadata": {},
   "outputs": [
    {
     "data": {
      "text/plain": [
       "[Document(id='d76ef2af-aa2c-40ef-8182-6a960aff8c53', metadata={}, page_content='machine learning is not built on a pre-structured model; rather, the data shape the \\nmodel by detecting underlying patterns. The more variables (input) used to train the \\nmodel, the more accurate the ultimate model will be.[35] \\nLeo Breiman distinguished two statistical modelling paradigms: data model and \\nalgorithmic model,[36] wherein \"algorithmic model\" means more or less the machine \\nlearning algorithms like Random Forest.'),\n",
       " Document(id='87eb9573-d235-440a-935b-42a1e053bcbd', metadata={}, page_content='machine learning is not built on a pre-structured model; rather, the data shape the \\nmodel by detecting underlying patterns. The more variables (input) used to train the \\nmodel, the more accurate the ultimate model will be.[35] \\nLeo Breiman distinguished two statistical modelling paradigms: data model and \\nalgorithmic model,[36] wherein \"algorithmic model\" means more or less the machine \\nlearning algorithms like Random Forest.'),\n",
       " Document(id='fe169e68-b417-4188-b394-b00cc4e5bb2f', metadata={}, page_content='machine learning is not built on a pre-structured model; rather, the data shape the \\nmodel by detecting underlying patterns. The more variables (input) used to train the \\nmodel, the more accurate the ultimate model will be.[35] \\nLeo Breiman distinguished two statistical modelling paradigms: data model and \\nalgorithmic model,[36] wherein \"algorithmic model\" means more or less the machine \\nlearning algorithms like Random Forest.'),\n",
       " Document(id='5e391e51-fa52-457a-b258-a7b47860de29', metadata={}, page_content='machine learning is not built on a pre-structured model; rather, the data shape the \\nmodel by detecting underlying patterns. The more variables (input) used to train the \\nmodel, the more accurate the ultimate model will be.[35] \\nLeo Breiman distinguished two statistical modelling paradigms: data model and \\nalgorithmic model,[36] wherein \"algorithmic model\" means more or less the machine \\nlearning algorithms like Random Forest.')]"
      ]
     },
     "execution_count": 124,
     "metadata": {},
     "output_type": "execute_result"
    }
   ],
   "source": [
    "docs"
   ]
  },
  {
   "cell_type": "code",
   "execution_count": 125,
   "id": "760d7477",
   "metadata": {},
   "outputs": [],
   "source": [
    "llm = OpenAI()"
   ]
  },
  {
   "cell_type": "code",
   "execution_count": 126,
   "id": "6d339ac0",
   "metadata": {},
   "outputs": [],
   "source": [
    "qa= RetrievalQA.from_chain_type(llm=llm, chain_type=\"stuff\", retriever=docsearch.as_retriever())"
   ]
  },
  {
   "cell_type": "code",
   "execution_count": 127,
   "id": "9032163a",
   "metadata": {},
   "outputs": [],
   "source": [
    "query=\"use of machine learning models\""
   ]
  },
  {
   "cell_type": "code",
   "execution_count": 128,
   "id": "8bf5d171",
   "metadata": {},
   "outputs": [
    {
     "data": {
      "text/plain": [
       "' The use of machine learning models is to help develop and make predictions for future outcomes based on data. It can be applied to various fields such as healthcare and finance, and is often related to artificial intelligence. '"
      ]
     },
     "execution_count": 128,
     "metadata": {},
     "output_type": "execute_result"
    }
   ],
   "source": [
    "qa.run(query)"
   ]
  },
  {
   "cell_type": "code",
   "execution_count": 130,
   "id": "1fc829f7",
   "metadata": {},
   "outputs": [
    {
     "name": "stdout",
     "output_type": "stream",
     "text": [
      "Answer:  Descriptive and Inferential statistics.\n",
      "Answer: \n",
      "Categorical and discrete variables are not continuous.\n",
      "Answer:  I don't know.\n",
      "Exiting the program.\n"
     ]
    },
    {
     "ename": "SystemExit",
     "evalue": "",
     "output_type": "error",
     "traceback": [
      "An exception has occurred, use %tb to see the full traceback.\n",
      "\u001b[1;31mSystemExit\u001b[0m\n"
     ]
    },
    {
     "name": "stderr",
     "output_type": "stream",
     "text": [
      "c:\\Users\\Narasimha\\anaconda3\\Lib\\site-packages\\IPython\\core\\interactiveshell.py:3585: UserWarning: To exit: use 'exit', 'quit', or Ctrl-D.\n",
      "  warn(\"To exit: use 'exit', 'quit', or Ctrl-D.\", stacklevel=1)\n"
     ]
    }
   ],
   "source": [
    " \n",
    "import sys\n",
    "while True:\n",
    "    user_input = input(\"Enter your question (or 'exit' to quit):\" )\n",
    "    if user_input.lower() == 'exit':\n",
    "        print(\"Exiting the program.\")\n",
    "        sys.exit()  \n",
    "    if user_input==\"\":\n",
    "        continue\n",
    "    result=qa({\"query\":user_input})\n",
    "    print(f\"Answer: {result['result']}\")\n",
    "        \n",
    "    "
   ]
  },
  {
   "cell_type": "code",
   "execution_count": null,
   "id": "ee6a74ce",
   "metadata": {},
   "outputs": [],
   "source": []
  }
 ],
 "metadata": {
  "kernelspec": {
   "display_name": "base",
   "language": "python",
   "name": "python3"
  },
  "language_info": {
   "codemirror_mode": {
    "name": "ipython",
    "version": 3
   },
   "file_extension": ".py",
   "mimetype": "text/x-python",
   "name": "python",
   "nbconvert_exporter": "python",
   "pygments_lexer": "ipython3",
   "version": "3.13.5"
  }
 },
 "nbformat": 4,
 "nbformat_minor": 5
}
